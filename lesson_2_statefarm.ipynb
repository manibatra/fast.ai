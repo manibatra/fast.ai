{
 "cells": [
  {
   "cell_type": "markdown",
   "metadata": {},
   "source": [
    "# Lesson 2 : State Farm"
   ]
  },
  {
   "cell_type": "code",
   "execution_count": 1,
   "metadata": {
    "ExecuteTime": {
     "end_time": "2017-06-24T03:16:50.767766Z",
     "start_time": "2017-06-24T03:16:50.757587Z"
    },
    "collapsed": false
   },
   "outputs": [
    {
     "data": {
      "text/plain": [
       "u'/home/ubuntu/nbs'"
      ]
     },
     "execution_count": 1,
     "metadata": {},
     "output_type": "execute_result"
    }
   ],
   "source": [
    "%pwd"
   ]
  },
  {
   "cell_type": "code",
   "execution_count": 2,
   "metadata": {
    "ExecuteTime": {
     "end_time": "2017-06-24T03:16:59.057308Z",
     "start_time": "2017-06-24T03:16:59.054233Z"
    },
    "collapsed": true
   },
   "outputs": [],
   "source": [
    "import os"
   ]
  },
  {
   "cell_type": "code",
   "execution_count": 16,
   "metadata": {
    "ExecuteTime": {
     "end_time": "2017-06-24T03:26:05.163486Z",
     "start_time": "2017-06-24T03:26:05.159532Z"
    },
    "collapsed": true
   },
   "outputs": [],
   "source": [
    "#Path of current directory and the data directory\n",
    "current_dir = os.getcwd()\n",
    "LESSON_HOME_DIR = current_dir\n",
    "DATA_HOME_DIR = current_dir + '/data/statefarm/'"
   ]
  },
  {
   "cell_type": "code",
   "execution_count": 20,
   "metadata": {
    "ExecuteTime": {
     "end_time": "2017-06-24T03:28:55.438533Z",
     "start_time": "2017-06-24T03:28:55.324466Z"
    },
    "collapsed": true
   },
   "outputs": [],
   "source": [
    "#setup the folder for the validation data\n",
    "%mkdir -p $DATA_HOME_DIR'valid'"
   ]
  },
  {
   "cell_type": "code",
   "execution_count": 22,
   "metadata": {
    "ExecuteTime": {
     "end_time": "2017-06-24T03:31:14.173240Z",
     "start_time": "2017-06-24T03:31:14.091342Z"
    },
    "collapsed": false
   },
   "outputs": [],
   "source": [
    "#create the classes for the validation data\n",
    "for root, dirs, files in os.walk(DATA_HOME_DIR+'train/'):\n",
    "    for name in dirs:\n",
    "        os.mkdir(os.path.join(DATA_HOME_DIR+'valid', name))"
   ]
  },
  {
   "cell_type": "code",
   "execution_count": 23,
   "metadata": {
    "ExecuteTime": {
     "end_time": "2017-06-24T03:35:38.236310Z",
     "start_time": "2017-06-24T03:35:38.010624Z"
    },
    "collapsed": true
   },
   "outputs": [],
   "source": [
    "import numpy as np\n",
    "from glob import glob"
   ]
  },
  {
   "cell_type": "code",
   "execution_count": 38,
   "metadata": {
    "ExecuteTime": {
     "end_time": "2017-06-24T03:50:00.229253Z",
     "start_time": "2017-06-24T03:50:00.059254Z"
    },
    "collapsed": false
   },
   "outputs": [],
   "source": [
    "#move 20% of the training data to the respective validation folders\n",
    "for root, dirs, files in os.walk(DATA_HOME_DIR+'train/'):\n",
    "    for name in dirs:\n",
    "        g = glob(DATA_HOME_DIR + 'train/' + name + '/*.jpg')\n",
    "        shuffle = np.random.permutation(g)\n",
    "        for i in range(int(0.2*shuffle.size)): \n",
    "            os.rename(shuffle[i], DATA_HOME_DIR + 'valid/' + name + '/' + os.path.basename(shuffle[i]))"
   ]
  },
  {
   "cell_type": "code",
   "execution_count": 40,
   "metadata": {
    "ExecuteTime": {
     "end_time": "2017-06-24T03:51:42.876039Z",
     "start_time": "2017-06-24T03:51:42.763779Z"
    },
    "collapsed": false
   },
   "outputs": [],
   "source": [
    "#setup the test data\n",
    "%mkdir -p $DATA_HOME_DIR'test/none/'"
   ]
  },
  {
   "cell_type": "code",
   "execution_count": 44,
   "metadata": {
    "ExecuteTime": {
     "end_time": "2017-06-24T03:56:52.511257Z",
     "start_time": "2017-06-24T03:56:51.408240Z"
    },
    "collapsed": false
   },
   "outputs": [
    {
     "name": "stdout",
     "output_type": "stream",
     "text": [
      "/home/ubuntu/nbs/data/statefarm/test\n"
     ]
    }
   ],
   "source": [
    "#move all the files in the folder created above\n",
    "%cd $DATA_HOME_DIR'test/'\n",
    "%mv *.jpg  none/"
   ]
  },
  {
   "cell_type": "code",
   "execution_count": null,
   "metadata": {
    "collapsed": true
   },
   "outputs": [],
   "source": []
  }
 ],
 "metadata": {
  "anaconda-cloud": {},
  "kernelspec": {
   "display_name": "Python [conda root]",
   "language": "python",
   "name": "conda-root-py"
  },
  "language_info": {
   "codemirror_mode": {
    "name": "ipython",
    "version": 2
   },
   "file_extension": ".py",
   "mimetype": "text/x-python",
   "name": "python",
   "nbconvert_exporter": "python",
   "pygments_lexer": "ipython2",
   "version": "2.7.12"
  },
  "varInspector": {
   "cols": {
    "lenName": 16,
    "lenType": 16,
    "lenVar": 40
   },
   "kernels_config": {
    "python": {
     "delete_cmd_postfix": "",
     "delete_cmd_prefix": "del ",
     "library": "var_list.py",
     "varRefreshCmd": "print(var_dic_list())"
    },
    "r": {
     "delete_cmd_postfix": ") ",
     "delete_cmd_prefix": "rm(",
     "library": "var_list.r",
     "varRefreshCmd": "cat(var_dic_list()) "
    }
   },
   "types_to_exclude": [
    "module",
    "function",
    "builtin_function_or_method",
    "instance",
    "_Feature"
   ],
   "window_display": false
  }
 },
 "nbformat": 4,
 "nbformat_minor": 1
}
