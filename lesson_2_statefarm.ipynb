{
 "cells": [
  {
   "cell_type": "markdown",
   "metadata": {},
   "source": [
    "# Lesson 2 : State Farm"
   ]
  },
  {
   "cell_type": "markdown",
   "metadata": {},
   "source": [
    "## Setup the directories for the data"
   ]
  },
  {
   "cell_type": "code",
   "execution_count": 1,
   "metadata": {
    "ExecuteTime": {
     "end_time": "2017-06-24T03:16:50.767766Z",
     "start_time": "2017-06-24T03:16:50.757587Z"
    },
    "collapsed": false
   },
   "outputs": [
    {
     "data": {
      "text/plain": [
       "u'/home/ubuntu/nbs'"
      ]
     },
     "execution_count": 1,
     "metadata": {},
     "output_type": "execute_result"
    }
   ],
   "source": [
    "%pwd"
   ]
  },
  {
   "cell_type": "code",
   "execution_count": 2,
   "metadata": {
    "ExecuteTime": {
     "end_time": "2017-06-24T03:16:59.057308Z",
     "start_time": "2017-06-24T03:16:59.054233Z"
    },
    "collapsed": true
   },
   "outputs": [],
   "source": [
    "import os"
   ]
  },
  {
   "cell_type": "code",
   "execution_count": 16,
   "metadata": {
    "ExecuteTime": {
     "end_time": "2017-06-24T03:26:05.163486Z",
     "start_time": "2017-06-24T03:26:05.159532Z"
    },
    "collapsed": true
   },
   "outputs": [],
   "source": [
    "#Path of current directory and the data directory\n",
    "current_dir = os.getcwd()\n",
    "LESSON_HOME_DIR = current_dir\n",
    "DATA_HOME_DIR = current_dir + '/data/statefarm/'"
   ]
  },
  {
   "cell_type": "code",
   "execution_count": 20,
   "metadata": {
    "ExecuteTime": {
     "end_time": "2017-06-24T03:28:55.438533Z",
     "start_time": "2017-06-24T03:28:55.324466Z"
    },
    "collapsed": true
   },
   "outputs": [],
   "source": [
    "#setup the folder for the validation data\n",
    "%mkdir -p $DATA_HOME_DIR'valid'"
   ]
  },
  {
   "cell_type": "code",
   "execution_count": 22,
   "metadata": {
    "ExecuteTime": {
     "end_time": "2017-06-24T03:31:14.173240Z",
     "start_time": "2017-06-24T03:31:14.091342Z"
    },
    "collapsed": false
   },
   "outputs": [],
   "source": [
    "#create the classes for the validation data\n",
    "for root, dirs, files in os.walk(DATA_HOME_DIR+'train/'):\n",
    "    for name in dirs:\n",
    "        os.mkdir(os.path.join(DATA_HOME_DIR+'valid', name))"
   ]
  },
  {
   "cell_type": "code",
   "execution_count": 23,
   "metadata": {
    "ExecuteTime": {
     "end_time": "2017-06-24T03:35:38.236310Z",
     "start_time": "2017-06-24T03:35:38.010624Z"
    },
    "collapsed": true
   },
   "outputs": [],
   "source": [
    "import numpy as np\n",
    "from glob import glob"
   ]
  },
  {
   "cell_type": "code",
   "execution_count": 38,
   "metadata": {
    "ExecuteTime": {
     "end_time": "2017-06-24T03:50:00.229253Z",
     "start_time": "2017-06-24T03:50:00.059254Z"
    },
    "collapsed": false
   },
   "outputs": [],
   "source": [
    "#move 20% of the training data to the respective validation folders\n",
    "for root, dirs, files in os.walk(DATA_HOME_DIR+'train/'):\n",
    "    for name in dirs:\n",
    "        g = glob(DATA_HOME_DIR + 'train/' + name + '/*.jpg')\n",
    "        shuffle = np.random.permutation(g)\n",
    "        for i in range(int(0.2*shuffle.size)): \n",
    "            os.rename(shuffle[i], DATA_HOME_DIR + 'valid/' + name + '/' + os.path.basename(shuffle[i]))"
   ]
  },
  {
   "cell_type": "code",
   "execution_count": 40,
   "metadata": {
    "ExecuteTime": {
     "end_time": "2017-06-24T03:51:42.876039Z",
     "start_time": "2017-06-24T03:51:42.763779Z"
    },
    "collapsed": false
   },
   "outputs": [],
   "source": [
    "#setup the test data\n",
    "%mkdir -p $DATA_HOME_DIR'test/none/'"
   ]
  },
  {
   "cell_type": "code",
   "execution_count": 44,
   "metadata": {
    "ExecuteTime": {
     "end_time": "2017-06-24T03:56:52.511257Z",
     "start_time": "2017-06-24T03:56:51.408240Z"
    },
    "collapsed": false
   },
   "outputs": [
    {
     "name": "stdout",
     "output_type": "stream",
     "text": [
      "/home/ubuntu/nbs/data/statefarm/test\n"
     ]
    }
   ],
   "source": [
    "#move all the files in the folder created above\n",
    "%cd $DATA_HOME_DIR'test/'\n",
    "%mv *.jpg  none/"
   ]
  },
  {
   "cell_type": "code",
   "execution_count": 46,
   "metadata": {
    "ExecuteTime": {
     "end_time": "2017-06-24T04:02:39.470039Z",
     "start_time": "2017-06-24T04:02:39.465727Z"
    },
    "collapsed": false
   },
   "outputs": [
    {
     "name": "stdout",
     "output_type": "stream",
     "text": [
      "/home/ubuntu/nbs\n"
     ]
    }
   ],
   "source": [
    "%cd $LESSON_HOME_DIR"
   ]
  },
  {
   "cell_type": "markdown",
   "metadata": {},
   "source": [
    "## Start creating the linear model"
   ]
  },
  {
   "cell_type": "code",
   "execution_count": 48,
   "metadata": {
    "ExecuteTime": {
     "end_time": "2017-06-24T04:03:24.310382Z",
     "start_time": "2017-06-24T04:03:24.302459Z"
    },
    "collapsed": false
   },
   "outputs": [],
   "source": [
    "%matplotlib inline\n",
    "from __future__ import division,print_function\n",
    "import json\n",
    "import scipy\n",
    "from sklearn.preprocessing import OneHotEncoder\n",
    "from sklearn.metrics import confusion_matrix\n",
    "np.set_printoptions(precision=4, linewidth=100)\n",
    "from matplotlib import pyplot as plt\n",
    "import utils; reload(utils)\n",
    "from utils import plots, get_batches, plot_confusion_matrix, get_data"
   ]
  },
  {
   "cell_type": "code",
   "execution_count": 49,
   "metadata": {
    "ExecuteTime": {
     "end_time": "2017-06-24T04:03:47.274272Z",
     "start_time": "2017-06-24T04:03:47.266253Z"
    },
    "collapsed": true
   },
   "outputs": [],
   "source": [
    "from numpy.random import random, permutation\n",
    "from scipy import misc, ndimage\n",
    "from scipy.ndimage.interpolation import zoom\n",
    "\n",
    "import keras\n",
    "from keras import backend as K\n",
    "from keras.utils.data_utils import get_file\n",
    "from keras.models import Sequential\n",
    "from keras.layers import Input\n",
    "from keras.layers.core import Flatten, Dense, Dropout, Lambda\n",
    "from keras.layers.convolutional import Convolution2D, MaxPooling2D, ZeroPadding2D\n",
    "from keras.optimizers import SGD, RMSprop\n",
    "from keras.preprocessing import image"
   ]
  },
  {
   "cell_type": "code",
   "execution_count": 50,
   "metadata": {
    "ExecuteTime": {
     "end_time": "2017-06-24T04:08:21.766568Z",
     "start_time": "2017-06-24T04:08:21.762256Z"
    },
    "collapsed": true
   },
   "outputs": [],
   "source": [
    "#path for the data and the arrays to save\n",
    "path='data/statefarm/'\n",
    "model_path=path+'model/'\n",
    "if not os.path.exists(model_path): os.mkdir(model_path)"
   ]
  },
  {
   "cell_type": "code",
   "execution_count": 52,
   "metadata": {
    "ExecuteTime": {
     "end_time": "2017-06-24T04:10:25.253198Z",
     "start_time": "2017-06-24T04:10:25.248004Z"
    },
    "collapsed": false
   },
   "outputs": [],
   "source": [
    "#write the function to save the arrays\n",
    "import bcolz\n",
    "def save_array(path, arr): \n",
    "    x = bcolz.carray(arr, rootdir=path, mode='w')\n",
    "    x.flush()\n",
    "    \n",
    "def load_array(path):\n",
    "    return bcolz.open()[:]"
   ]
  },
  {
   "cell_type": "code",
   "execution_count": 53,
   "metadata": {
    "ExecuteTime": {
     "end_time": "2017-06-24T04:10:36.823614Z",
     "start_time": "2017-06-24T04:10:36.820640Z"
    },
    "collapsed": true
   },
   "outputs": [],
   "source": [
    "batch_size=64"
   ]
  },
  {
   "cell_type": "code",
   "execution_count": 54,
   "metadata": {
    "ExecuteTime": {
     "end_time": "2017-06-24T04:11:36.829423Z",
     "start_time": "2017-06-24T04:11:36.726695Z"
    },
    "collapsed": false
   },
   "outputs": [
    {
     "name": "stdout",
     "output_type": "stream",
     "text": [
      "Found 17943 images belonging to 10 classes.\n",
      "Found 4481 images belonging to 10 classes.\n"
     ]
    }
   ],
   "source": [
    "train_batches = get_batches(path+'train/', batch_size=batch_size)\n",
    "val_batches = get_batches(path+'valid', batch_size=batch_size)"
   ]
  },
  {
   "cell_type": "code",
   "execution_count": 62,
   "metadata": {
    "ExecuteTime": {
     "end_time": "2017-06-24T04:20:39.240910Z",
     "start_time": "2017-06-24T04:20:39.237659Z"
    },
    "collapsed": true
   },
   "outputs": [],
   "source": [
    "#method to one hot encode the classes\n",
    "def onehot(x):\n",
    "    return np.array(OneHotEncoder().fit_transform(x.reshape(-1, 1)).todense())"
   ]
  },
  {
   "cell_type": "code",
   "execution_count": 63,
   "metadata": {
    "ExecuteTime": {
     "end_time": "2017-06-24T04:23:02.751614Z",
     "start_time": "2017-06-24T04:23:02.743033Z"
    },
    "collapsed": false
   },
   "outputs": [],
   "source": [
    "#get the classes from the batches and onehotencode them to labels\n",
    "train_classes = train_batches.classes\n",
    "val_classes = val_batches.classes\n",
    "train_labels = onehot(train_classes)\n",
    "val_labels = onehot(val_classes)"
   ]
  },
  {
   "cell_type": "code",
   "execution_count": 64,
   "metadata": {
    "ExecuteTime": {
     "end_time": "2017-06-24T04:24:24.890758Z",
     "start_time": "2017-06-24T04:24:24.880274Z"
    },
    "collapsed": false
   },
   "outputs": [],
   "source": [
    "#save the arrays of labels\n",
    "save_array(model_path+'train_labels.bc', train_labels)\n",
    "save_array(model_path+'val_labels.bc', val_labels)"
   ]
  },
  {
   "cell_type": "code",
   "execution_count": 65,
   "metadata": {
    "ExecuteTime": {
     "end_time": "2017-06-24T04:30:14.684275Z",
     "start_time": "2017-06-24T04:25:22.943316Z"
    },
    "collapsed": false
   },
   "outputs": [
    {
     "name": "stdout",
     "output_type": "stream",
     "text": [
      "Found 17943 images belonging to 10 classes.\n",
      "Found 4481 images belonging to 10 classes.\n"
     ]
    }
   ],
   "source": [
    "#use the get_data method to get the concatenated data\n",
    "train_data = get_data(path+'train/')\n",
    "val_data = get_data(path+'valid/')"
   ]
  },
  {
   "cell_type": "code",
   "execution_count": 66,
   "metadata": {
    "ExecuteTime": {
     "end_time": "2017-06-24T04:30:56.406259Z",
     "start_time": "2017-06-24T04:30:18.333069Z"
    },
    "collapsed": true
   },
   "outputs": [],
   "source": [
    "#save the data for quick load \n",
    "save_array(model_path+'train_data.bc', train_data)\n",
    "save_array(model_path+'val_data.bc', val_data)"
   ]
  },
  {
   "cell_type": "code",
   "execution_count": null,
   "metadata": {
    "collapsed": true
   },
   "outputs": [],
   "source": []
  }
 ],
 "metadata": {
  "anaconda-cloud": {},
  "kernelspec": {
   "display_name": "Python [conda root]",
   "language": "python",
   "name": "conda-root-py"
  },
  "language_info": {
   "codemirror_mode": {
    "name": "ipython",
    "version": 2
   },
   "file_extension": ".py",
   "mimetype": "text/x-python",
   "name": "python",
   "nbconvert_exporter": "python",
   "pygments_lexer": "ipython2",
   "version": "2.7.12"
  },
  "varInspector": {
   "cols": {
    "lenName": 16,
    "lenType": 16,
    "lenVar": 40
   },
   "kernels_config": {
    "python": {
     "delete_cmd_postfix": "",
     "delete_cmd_prefix": "del ",
     "library": "var_list.py",
     "varRefreshCmd": "print(var_dic_list())"
    },
    "r": {
     "delete_cmd_postfix": ") ",
     "delete_cmd_prefix": "rm(",
     "library": "var_list.r",
     "varRefreshCmd": "cat(var_dic_list()) "
    }
   },
   "types_to_exclude": [
    "module",
    "function",
    "builtin_function_or_method",
    "instance",
    "_Feature"
   ],
   "window_display": false
  }
 },
 "nbformat": 4,
 "nbformat_minor": 1
}
