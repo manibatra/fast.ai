{
 "cells": [
  {
   "cell_type": "markdown",
   "metadata": {},
   "source": [
    "# Lesson 2 : State Farm"
   ]
  },
  {
   "cell_type": "markdown",
   "metadata": {},
   "source": [
    "## Setup the directories for the data"
   ]
  },
  {
   "cell_type": "code",
   "execution_count": 1,
   "metadata": {
    "ExecuteTime": {
     "end_time": "2017-06-24T03:16:50.767766Z",
     "start_time": "2017-06-24T03:16:50.757587Z"
    },
    "collapsed": false
   },
   "outputs": [
    {
     "data": {
      "text/plain": [
       "u'/home/ubuntu/nbs'"
      ]
     },
     "execution_count": 1,
     "metadata": {},
     "output_type": "execute_result"
    }
   ],
   "source": [
    "%pwd"
   ]
  },
  {
   "cell_type": "code",
   "execution_count": 1,
   "metadata": {
    "ExecuteTime": {
     "end_time": "2017-06-25T01:28:52.924050Z",
     "start_time": "2017-06-25T01:28:52.919742Z"
    },
    "collapsed": true
   },
   "outputs": [],
   "source": [
    "import os"
   ]
  },
  {
   "cell_type": "code",
   "execution_count": 16,
   "metadata": {
    "ExecuteTime": {
     "end_time": "2017-06-24T03:26:05.163486Z",
     "start_time": "2017-06-24T03:26:05.159532Z"
    },
    "collapsed": true
   },
   "outputs": [],
   "source": [
    "#Path of current directory and the data directory\n",
    "current_dir = os.getcwd()\n",
    "LESSON_HOME_DIR = current_dir\n",
    "DATA_HOME_DIR = current_dir + '/data/statefarm/'"
   ]
  },
  {
   "cell_type": "code",
   "execution_count": 20,
   "metadata": {
    "ExecuteTime": {
     "end_time": "2017-06-24T03:28:55.438533Z",
     "start_time": "2017-06-24T03:28:55.324466Z"
    },
    "collapsed": true
   },
   "outputs": [],
   "source": [
    "#setup the folder for the validation data\n",
    "%mkdir -p $DATA_HOME_DIR'valid'"
   ]
  },
  {
   "cell_type": "code",
   "execution_count": 22,
   "metadata": {
    "ExecuteTime": {
     "end_time": "2017-06-24T03:31:14.173240Z",
     "start_time": "2017-06-24T03:31:14.091342Z"
    },
    "collapsed": false
   },
   "outputs": [],
   "source": [
    "#create the classes for the validation data\n",
    "for root, dirs, files in os.walk(DATA_HOME_DIR+'train/'):\n",
    "    for name in dirs:\n",
    "        os.mkdir(os.path.join(DATA_HOME_DIR+'valid', name))"
   ]
  },
  {
   "cell_type": "code",
   "execution_count": 2,
   "metadata": {
    "ExecuteTime": {
     "end_time": "2017-06-25T01:28:57.488770Z",
     "start_time": "2017-06-25T01:28:57.262979Z"
    },
    "collapsed": true
   },
   "outputs": [],
   "source": [
    "import numpy as np\n",
    "from glob import glob"
   ]
  },
  {
   "cell_type": "code",
   "execution_count": 38,
   "metadata": {
    "ExecuteTime": {
     "end_time": "2017-06-24T03:50:00.229253Z",
     "start_time": "2017-06-24T03:50:00.059254Z"
    },
    "collapsed": false
   },
   "outputs": [],
   "source": [
    "#move 20% of the training data to the respective validation folders\n",
    "for root, dirs, files in os.walk(DATA_HOME_DIR+'train/'):\n",
    "    for name in dirs:\n",
    "        g = glob(DATA_HOME_DIR + 'train/' + name + '/*.jpg')\n",
    "        shuffle = np.random.permutation(g)\n",
    "        for i in range(int(0.2*shuffle.size)): \n",
    "            os.rename(shuffle[i], DATA_HOME_DIR + 'valid/' + name + '/' + os.path.basename(shuffle[i]))"
   ]
  },
  {
   "cell_type": "code",
   "execution_count": 40,
   "metadata": {
    "ExecuteTime": {
     "end_time": "2017-06-24T03:51:42.876039Z",
     "start_time": "2017-06-24T03:51:42.763779Z"
    },
    "collapsed": false
   },
   "outputs": [],
   "source": [
    "#setup the test data\n",
    "%mkdir -p $DATA_HOME_DIR'test/none/'"
   ]
  },
  {
   "cell_type": "code",
   "execution_count": 44,
   "metadata": {
    "ExecuteTime": {
     "end_time": "2017-06-24T03:56:52.511257Z",
     "start_time": "2017-06-24T03:56:51.408240Z"
    },
    "collapsed": false
   },
   "outputs": [
    {
     "name": "stdout",
     "output_type": "stream",
     "text": [
      "/home/ubuntu/nbs/data/statefarm/test\n"
     ]
    }
   ],
   "source": [
    "#move all the files in the folder created above\n",
    "%cd $DATA_HOME_DIR'test/'\n",
    "%mv *.jpg  none/"
   ]
  },
  {
   "cell_type": "code",
   "execution_count": 46,
   "metadata": {
    "ExecuteTime": {
     "end_time": "2017-06-24T04:02:39.470039Z",
     "start_time": "2017-06-24T04:02:39.465727Z"
    },
    "collapsed": false
   },
   "outputs": [
    {
     "name": "stdout",
     "output_type": "stream",
     "text": [
      "/home/ubuntu/nbs\n"
     ]
    }
   ],
   "source": [
    "%cd $LESSON_HOME_DIR"
   ]
  },
  {
   "cell_type": "markdown",
   "metadata": {},
   "source": [
    "## Start creating the linear model"
   ]
  },
  {
   "cell_type": "code",
   "execution_count": 3,
   "metadata": {
    "ExecuteTime": {
     "end_time": "2017-06-25T01:29:09.711383Z",
     "start_time": "2017-06-25T01:29:01.038621Z"
    },
    "collapsed": false
   },
   "outputs": [
    {
     "name": "stderr",
     "output_type": "stream",
     "text": [
      "Using gpu device 0: Tesla K80 (CNMeM is disabled, cuDNN 5103)\n",
      "/home/ubuntu/anaconda2/lib/python2.7/site-packages/theano/sandbox/cuda/__init__.py:600: UserWarning: Your cuDNN version is more recent than the one Theano officially supports. If you see any problems, try updating Theano or downgrading cuDNN to version 5.\n",
      "  warnings.warn(warn)\n",
      "Using Theano backend.\n"
     ]
    }
   ],
   "source": [
    "%matplotlib inline\n",
    "from __future__ import division,print_function\n",
    "import json\n",
    "import scipy\n",
    "from sklearn.preprocessing import OneHotEncoder\n",
    "from sklearn.metrics import confusion_matrix\n",
    "np.set_printoptions(precision=4, linewidth=100)\n",
    "from matplotlib import pyplot as plt\n",
    "import utils; reload(utils)\n",
    "from utils import plots, get_batches, plot_confusion_matrix, get_data"
   ]
  },
  {
   "cell_type": "code",
   "execution_count": 4,
   "metadata": {
    "ExecuteTime": {
     "end_time": "2017-06-25T01:29:09.725533Z",
     "start_time": "2017-06-25T01:29:09.717595Z"
    },
    "collapsed": true
   },
   "outputs": [],
   "source": [
    "from numpy.random import random, permutation\n",
    "from scipy import misc, ndimage\n",
    "from scipy.ndimage.interpolation import zoom\n",
    "\n",
    "import keras\n",
    "from keras import backend as K\n",
    "from keras.utils.data_utils import get_file\n",
    "from keras.models import Sequential\n",
    "from keras.layers import Input\n",
    "from keras.layers.core import Flatten, Dense, Dropout, Lambda\n",
    "from keras.layers.convolutional import Convolution2D, MaxPooling2D, ZeroPadding2D\n",
    "from keras.optimizers import SGD, RMSprop\n",
    "from keras.preprocessing import image"
   ]
  },
  {
   "cell_type": "code",
   "execution_count": 5,
   "metadata": {
    "ExecuteTime": {
     "end_time": "2017-06-25T01:29:16.475425Z",
     "start_time": "2017-06-25T01:29:16.471079Z"
    },
    "collapsed": true
   },
   "outputs": [],
   "source": [
    "#path for the data and the arrays to save\n",
    "path='data/statefarm/'\n",
    "model_path=path+'model/'\n",
    "if not os.path.exists(model_path): os.mkdir(model_path)"
   ]
  },
  {
   "cell_type": "code",
   "execution_count": 10,
   "metadata": {
    "ExecuteTime": {
     "end_time": "2017-06-25T01:30:41.662688Z",
     "start_time": "2017-06-25T01:30:41.657538Z"
    },
    "collapsed": false
   },
   "outputs": [],
   "source": [
    "#write the function to save the arrays\n",
    "import bcolz\n",
    "def save_array(path, arr): \n",
    "    x = bcolz.carray(arr, rootdir=path, mode='w')\n",
    "    x.flush()\n",
    "    \n",
    "def load_array(path):\n",
    "    return bcolz.open(path)[:]"
   ]
  },
  {
   "cell_type": "code",
   "execution_count": 7,
   "metadata": {
    "ExecuteTime": {
     "end_time": "2017-06-25T01:29:21.696744Z",
     "start_time": "2017-06-25T01:29:21.694083Z"
    },
    "collapsed": true
   },
   "outputs": [],
   "source": [
    "batch_size=64"
   ]
  },
  {
   "cell_type": "code",
   "execution_count": 54,
   "metadata": {
    "ExecuteTime": {
     "end_time": "2017-06-24T04:11:36.829423Z",
     "start_time": "2017-06-24T04:11:36.726695Z"
    },
    "collapsed": false
   },
   "outputs": [
    {
     "name": "stdout",
     "output_type": "stream",
     "text": [
      "Found 17943 images belonging to 10 classes.\n",
      "Found 4481 images belonging to 10 classes.\n"
     ]
    }
   ],
   "source": [
    "train_batches = get_batches(path+'train/', batch_size=batch_size)\n",
    "val_batches = get_batches(path+'valid', batch_size=batch_size)"
   ]
  },
  {
   "cell_type": "code",
   "execution_count": 8,
   "metadata": {
    "ExecuteTime": {
     "end_time": "2017-06-25T01:29:26.730642Z",
     "start_time": "2017-06-25T01:29:26.727333Z"
    },
    "collapsed": true
   },
   "outputs": [],
   "source": [
    "#method to one hot encode the classes\n",
    "def onehot(x):\n",
    "    return np.array(OneHotEncoder().fit_transform(x.reshape(-1, 1)).todense())"
   ]
  },
  {
   "cell_type": "code",
   "execution_count": 63,
   "metadata": {
    "ExecuteTime": {
     "end_time": "2017-06-24T04:23:02.751614Z",
     "start_time": "2017-06-24T04:23:02.743033Z"
    },
    "collapsed": false
   },
   "outputs": [],
   "source": [
    "#get the classes from the batches and onehotencode them to labels\n",
    "train_classes = train_batches.classes\n",
    "val_classes = val_batches.classes\n",
    "train_labels = onehot(train_classes)\n",
    "val_labels = onehot(val_classes)"
   ]
  },
  {
   "cell_type": "code",
   "execution_count": 64,
   "metadata": {
    "ExecuteTime": {
     "end_time": "2017-06-24T04:24:24.890758Z",
     "start_time": "2017-06-24T04:24:24.880274Z"
    },
    "collapsed": false
   },
   "outputs": [],
   "source": [
    "#save the arrays of labels\n",
    "save_array(model_path+'train_labels.bc', train_labels)\n",
    "save_array(model_path+'val_labels.bc', val_labels)"
   ]
  },
  {
   "cell_type": "code",
   "execution_count": 65,
   "metadata": {
    "ExecuteTime": {
     "end_time": "2017-06-24T04:30:14.684275Z",
     "start_time": "2017-06-24T04:25:22.943316Z"
    },
    "collapsed": false
   },
   "outputs": [
    {
     "name": "stdout",
     "output_type": "stream",
     "text": [
      "Found 17943 images belonging to 10 classes.\n",
      "Found 4481 images belonging to 10 classes.\n"
     ]
    }
   ],
   "source": [
    "#use the get_data method to get the concatenated data\n",
    "train_data = get_data(path+'train/')\n",
    "val_data = get_data(path+'valid/')"
   ]
  },
  {
   "cell_type": "code",
   "execution_count": 66,
   "metadata": {
    "ExecuteTime": {
     "end_time": "2017-06-24T04:30:56.406259Z",
     "start_time": "2017-06-24T04:30:18.333069Z"
    },
    "collapsed": true
   },
   "outputs": [],
   "source": [
    "#save the data for quick load \n",
    "save_array(model_path+'train_data.bc', train_data)\n",
    "save_array(model_path+'val_data.bc', val_data)"
   ]
  },
  {
   "cell_type": "code",
   "execution_count": 11,
   "metadata": {
    "ExecuteTime": {
     "end_time": "2017-06-25T01:30:45.704062Z",
     "start_time": "2017-06-25T01:30:45.685540Z"
    },
    "collapsed": false
   },
   "outputs": [],
   "source": [
    "#loading the labels\n",
    "train_labels = load_array(model_path+'train_labels.bc')\n",
    "val_labels = load_array(model_path+'val_labels.bc')"
   ]
  },
  {
   "cell_type": "code",
   "execution_count": 13,
   "metadata": {
    "ExecuteTime": {
     "end_time": "2017-06-25T01:33:01.200971Z",
     "start_time": "2017-06-25T01:31:49.938233Z"
    },
    "collapsed": false
   },
   "outputs": [],
   "source": [
    "#load the data\n",
    "train_data = load_array(model_path+'train_data.bc')\n",
    "val_data = load_array(model_path+'val_data.bc')"
   ]
  },
  {
   "cell_type": "code",
   "execution_count": 14,
   "metadata": {
    "ExecuteTime": {
     "end_time": "2017-06-25T01:33:09.142577Z",
     "start_time": "2017-06-25T01:33:01.230999Z"
    },
    "collapsed": true
   },
   "outputs": [],
   "source": [
    "from vgg16 import Vgg16\n",
    "vgg = Vgg16()\n",
    "model = vgg.model"
   ]
  },
  {
   "cell_type": "code",
   "execution_count": 16,
   "metadata": {
    "ExecuteTime": {
     "end_time": "2017-06-25T01:43:52.264483Z",
     "start_time": "2017-06-25T01:41:55.375884Z"
    },
    "collapsed": false
   },
   "outputs": [],
   "source": [
    "#getting the features\n",
    "# train_features = model.predict(train_data, batch_size=batch_size)\n",
    "val_features = model.predict(val_data, batch_size=batch_size)"
   ]
  },
  {
   "cell_type": "code",
   "execution_count": 17,
   "metadata": {
    "ExecuteTime": {
     "end_time": "2017-06-25T01:43:52.520222Z",
     "start_time": "2017-06-25T01:43:52.296165Z"
    },
    "collapsed": true
   },
   "outputs": [],
   "source": [
    "#saving the features\n",
    "save_array(model_path+'train_features.bc', train_features)\n",
    "save_array(model_path+'val_features.bc', val_features)"
   ]
  },
  {
   "cell_type": "code",
   "execution_count": 18,
   "metadata": {
    "ExecuteTime": {
     "end_time": "2017-06-25T01:44:01.055662Z",
     "start_time": "2017-06-25T01:44:01.041151Z"
    },
    "collapsed": true
   },
   "outputs": [],
   "source": [
    "#creating our linear model\n",
    "lm = Sequential([Dense(10,activation='softmax', input_shape=(1000,))])\n",
    "lm.compile(optimizer=RMSprop(lr=0.1), loss='categorical_crossentropy', metrics=['accuracy'])"
   ]
  },
  {
   "cell_type": "code",
   "execution_count": 21,
   "metadata": {
    "ExecuteTime": {
     "end_time": "2017-06-25T01:45:02.166859Z",
     "start_time": "2017-06-25T01:44:51.092833Z"
    },
    "collapsed": false
   },
   "outputs": [
    {
     "name": "stdout",
     "output_type": "stream",
     "text": [
      "Train on 17943 samples, validate on 4481 samples\n",
      "Epoch 1/20\n",
      "17943/17943 [==============================] - 0s - loss: 1.3396 - acc: 0.5756 - val_loss: 1.4048 - val_acc: 0.5548\n",
      "Epoch 2/20\n",
      "17943/17943 [==============================] - 0s - loss: 1.3314 - acc: 0.5820 - val_loss: 1.4189 - val_acc: 0.5468\n",
      "Epoch 3/20\n",
      "17943/17943 [==============================] - 0s - loss: 1.3233 - acc: 0.5844 - val_loss: 1.3870 - val_acc: 0.5791\n",
      "Epoch 4/20\n",
      "17943/17943 [==============================] - 0s - loss: 1.3165 - acc: 0.5857 - val_loss: 1.3971 - val_acc: 0.5720\n",
      "Epoch 5/20\n",
      "17943/17943 [==============================] - 0s - loss: 1.3106 - acc: 0.5928 - val_loss: 1.3795 - val_acc: 0.5793\n",
      "Epoch 6/20\n",
      "17943/17943 [==============================] - 0s - loss: 1.3029 - acc: 0.5914 - val_loss: 1.3866 - val_acc: 0.5613\n",
      "Epoch 7/20\n",
      "17943/17943 [==============================] - 0s - loss: 1.2965 - acc: 0.5958 - val_loss: 1.3736 - val_acc: 0.5691\n",
      "Epoch 8/20\n",
      "17943/17943 [==============================] - 0s - loss: 1.2894 - acc: 0.5952 - val_loss: 1.3700 - val_acc: 0.5530\n",
      "Epoch 9/20\n",
      "17943/17943 [==============================] - 0s - loss: 1.2839 - acc: 0.6035 - val_loss: 1.3557 - val_acc: 0.5954\n",
      "Epoch 10/20\n",
      "17943/17943 [==============================] - 0s - loss: 1.2779 - acc: 0.6029 - val_loss: 1.3583 - val_acc: 0.5831\n",
      "Epoch 11/20\n",
      "17943/17943 [==============================] - 0s - loss: 1.2728 - acc: 0.6040 - val_loss: 1.3670 - val_acc: 0.5642\n",
      "Epoch 12/20\n",
      "17943/17943 [==============================] - 0s - loss: 1.2673 - acc: 0.6085 - val_loss: 1.3691 - val_acc: 0.5702\n",
      "Epoch 13/20\n",
      "17943/17943 [==============================] - 0s - loss: 1.2629 - acc: 0.6096 - val_loss: 1.3386 - val_acc: 0.5789\n",
      "Epoch 14/20\n",
      "17943/17943 [==============================] - 0s - loss: 1.2567 - acc: 0.6108 - val_loss: 1.3347 - val_acc: 0.5900\n",
      "Epoch 15/20\n",
      "17943/17943 [==============================] - 0s - loss: 1.2518 - acc: 0.6122 - val_loss: 1.3453 - val_acc: 0.5820\n",
      "Epoch 16/20\n",
      "17943/17943 [==============================] - 0s - loss: 1.2465 - acc: 0.6173 - val_loss: 1.3351 - val_acc: 0.5820\n",
      "Epoch 17/20\n",
      "17943/17943 [==============================] - 0s - loss: 1.2411 - acc: 0.6177 - val_loss: 1.3230 - val_acc: 0.5883\n",
      "Epoch 18/20\n",
      "17943/17943 [==============================] - 0s - loss: 1.2357 - acc: 0.6188 - val_loss: 1.3226 - val_acc: 0.5927\n",
      "Epoch 19/20\n",
      "17943/17943 [==============================] - 0s - loss: 1.2321 - acc: 0.6215 - val_loss: 1.3366 - val_acc: 0.5729\n",
      "Epoch 20/20\n",
      "17943/17943 [==============================] - 0s - loss: 1.2295 - acc: 0.6206 - val_loss: 1.3160 - val_acc: 0.6025\n"
     ]
    },
    {
     "data": {
      "text/plain": [
       "<keras.callbacks.History at 0x7fdadce26e90>"
      ]
     },
     "execution_count": 21,
     "metadata": {},
     "output_type": "execute_result"
    }
   ],
   "source": [
    "#fitting the linear model to the features\n",
    "lm.fit(train_features, train_labels, nb_epoch=20, batch_size=batch_size, validation_data=(val_features, val_labels))"
   ]
  },
  {
   "cell_type": "code",
   "execution_count": 22,
   "metadata": {
    "ExecuteTime": {
     "end_time": "2017-06-25T01:45:57.622049Z",
     "start_time": "2017-06-25T01:45:57.427003Z"
    },
    "collapsed": false
   },
   "outputs": [
    {
     "name": "stdout",
     "output_type": "stream",
     "text": [
      "____________________________________________________________________________________________________\n",
      "Layer (type)                     Output Shape          Param #     Connected to                     \n",
      "====================================================================================================\n",
      "dense_4 (Dense)                  (None, 10)            10010       dense_input_1[0][0]              \n",
      "====================================================================================================\n",
      "Total params: 10010\n",
      "____________________________________________________________________________________________________\n"
     ]
    }
   ],
   "source": [
    "lm.summary()"
   ]
  },
  {
   "cell_type": "markdown",
   "metadata": {},
   "source": [
    "## Visualisation of our model's prediction chops"
   ]
  },
  {
   "cell_type": "markdown",
   "metadata": {},
   "source": [
    "### Things we will be visualising\n",
    " - Random correct predictions\n",
    " - Random incorrect predictions\n",
    " - Most correct predictions belonging to class c0\n",
    " - Most correct predictions belongig to class c1"
   ]
  }
 ],
 "metadata": {
  "anaconda-cloud": {},
  "kernelspec": {
   "display_name": "Python [conda root]",
   "language": "python",
   "name": "conda-root-py"
  },
  "language_info": {
   "codemirror_mode": {
    "name": "ipython",
    "version": 2
   },
   "file_extension": ".py",
   "mimetype": "text/x-python",
   "name": "python",
   "nbconvert_exporter": "python",
   "pygments_lexer": "ipython2",
   "version": "2.7.12"
  },
  "varInspector": {
   "cols": {
    "lenName": 16,
    "lenType": 16,
    "lenVar": 40
   },
   "kernels_config": {
    "python": {
     "delete_cmd_postfix": "",
     "delete_cmd_prefix": "del ",
     "library": "var_list.py",
     "varRefreshCmd": "print(var_dic_list())"
    },
    "r": {
     "delete_cmd_postfix": ") ",
     "delete_cmd_prefix": "rm(",
     "library": "var_list.r",
     "varRefreshCmd": "cat(var_dic_list()) "
    }
   },
   "types_to_exclude": [
    "module",
    "function",
    "builtin_function_or_method",
    "instance",
    "_Feature"
   ],
   "window_display": false
  }
 },
 "nbformat": 4,
 "nbformat_minor": 1
}
