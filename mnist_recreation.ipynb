{
 "cells": [
  {
   "cell_type": "code",
   "execution_count": 1,
   "metadata": {
    "ExecuteTime": {
     "end_time": "2017-10-11T05:55:44.531067Z",
     "start_time": "2017-10-11T05:55:37.195739Z"
    },
    "collapsed": false
   },
   "outputs": [
    {
     "name": "stderr",
     "output_type": "stream",
     "text": [
      "Using gpu device 0: Tesla K80 (CNMeM is disabled, cuDNN 5103)\n",
      "/home/ubuntu/anaconda2/lib/python2.7/site-packages/theano/sandbox/cuda/__init__.py:600: UserWarning: Your cuDNN version is more recent than the one Theano officially supports. If you see any problems, try updating Theano or downgrading cuDNN to version 5.\n",
      "  warnings.warn(warn)\n",
      "WARNING (theano.sandbox.cuda): Ignoring call to use(2), GPU number 0 is already in use.\n"
     ]
    }
   ],
   "source": [
    "from theano.sandbox import cuda\n",
    "cuda.use('gpu2')"
   ]
  },
  {
   "cell_type": "code",
   "execution_count": 2,
   "metadata": {
    "ExecuteTime": {
     "end_time": "2017-10-11T05:55:45.644566Z",
     "start_time": "2017-10-11T05:55:44.537184Z"
    },
    "collapsed": false,
    "scrolled": true
   },
   "outputs": [
    {
     "name": "stderr",
     "output_type": "stream",
     "text": [
      "Using Theano backend.\n"
     ]
    }
   ],
   "source": [
    "%matplotlib inline\n",
    "import utils; reload(utils)\n",
    "from utils import *\n",
    "from __future__ import division, print_function"
   ]
  },
  {
   "cell_type": "markdown",
   "metadata": {},
   "source": [
    "# Setup"
   ]
  },
  {
   "cell_type": "code",
   "execution_count": 3,
   "metadata": {
    "ExecuteTime": {
     "end_time": "2017-10-11T05:55:52.374479Z",
     "start_time": "2017-10-11T05:55:50.695459Z"
    },
    "collapsed": false
   },
   "outputs": [],
   "source": [
    "from keras.datasets import mnist\n",
    "(x_train, y_train), (x_test, y_test) = mnist.load_data()"
   ]
  },
  {
   "cell_type": "code",
   "execution_count": 4,
   "metadata": {
    "ExecuteTime": {
     "end_time": "2017-10-11T05:55:52.393623Z",
     "start_time": "2017-10-11T05:55:52.390632Z"
    },
    "collapsed": true
   },
   "outputs": [],
   "source": [
    "x_train = np.expand_dims(x_train, 1)\n",
    "x_test = np.expand_dims(x_test, 1)"
   ]
  },
  {
   "cell_type": "code",
   "execution_count": 5,
   "metadata": {
    "ExecuteTime": {
     "end_time": "2017-10-11T05:55:52.429346Z",
     "start_time": "2017-10-11T05:55:52.408889Z"
    },
    "collapsed": true
   },
   "outputs": [],
   "source": [
    "y_train = onehot(y_train)\n",
    "y_test = onehot(y_test)"
   ]
  },
  {
   "cell_type": "code",
   "execution_count": 6,
   "metadata": {
    "ExecuteTime": {
     "end_time": "2017-10-11T05:55:52.840466Z",
     "start_time": "2017-10-11T05:55:52.448118Z"
    },
    "collapsed": true
   },
   "outputs": [],
   "source": [
    "mean_x = x_train.mean().astype(np.float32)\n",
    "std_x = x_train.std().astype(np.float32)"
   ]
  },
  {
   "cell_type": "code",
   "execution_count": 7,
   "metadata": {
    "ExecuteTime": {
     "end_time": "2017-10-11T05:55:54.394455Z",
     "start_time": "2017-10-11T05:55:54.391355Z"
    },
    "collapsed": true
   },
   "outputs": [],
   "source": [
    "# method to normalise the input \n",
    "def normalise(x): return (x-mean_x)/std_x"
   ]
  },
  {
   "cell_type": "markdown",
   "metadata": {
    "heading_collapsed": true
   },
   "source": [
    "# Linear Model"
   ]
  },
  {
   "cell_type": "code",
   "execution_count": 10,
   "metadata": {
    "ExecuteTime": {
     "end_time": "2017-10-10T06:20:10.242217Z",
     "start_time": "2017-10-10T06:20:10.236433Z"
    },
    "collapsed": false,
    "hidden": true
   },
   "outputs": [
    {
     "data": {
      "text/plain": [
       "(60000, 1, 28, 28)"
      ]
     },
     "execution_count": 10,
     "metadata": {},
     "output_type": "execute_result"
    }
   ],
   "source": [
    "x_train.shape"
   ]
  },
  {
   "cell_type": "code",
   "execution_count": 11,
   "metadata": {
    "ExecuteTime": {
     "end_time": "2017-10-10T06:20:10.265293Z",
     "start_time": "2017-10-10T06:20:10.259748Z"
    },
    "collapsed": true,
    "hidden": true
   },
   "outputs": [],
   "source": [
    "def get_lin_model():\n",
    "    model = Sequential([\n",
    "             Lambda(normalise, input_shape=x_train.shape[1:]),\n",
    "             Flatten(),\n",
    "             Dense(10, activation='softmax')\n",
    "    ])\n",
    "    model.compile(Adam(), 'categorical_crossentropy', ['accuracy'])\n",
    "    return model"
   ]
  },
  {
   "cell_type": "code",
   "execution_count": 12,
   "metadata": {
    "ExecuteTime": {
     "end_time": "2017-10-10T06:20:10.995973Z",
     "start_time": "2017-10-10T06:20:10.975978Z"
    },
    "collapsed": true,
    "hidden": true
   },
   "outputs": [],
   "source": [
    "lm = get_lin_model()"
   ]
  },
  {
   "cell_type": "code",
   "execution_count": 13,
   "metadata": {
    "ExecuteTime": {
     "end_time": "2017-10-10T06:20:12.059791Z",
     "start_time": "2017-10-10T06:20:12.055630Z"
    },
    "collapsed": true,
    "hidden": true
   },
   "outputs": [],
   "source": [
    "#Generate batches from image data\n",
    "gen = image.ImageDataGenerator()\n",
    "batches = gen.flow(x_train, y_train, batch_size=64)\n",
    "val_batches = gen.flow(x_test, y_test, batch_size=64)"
   ]
  },
  {
   "cell_type": "code",
   "execution_count": 14,
   "metadata": {
    "ExecuteTime": {
     "end_time": "2017-10-10T06:20:33.159203Z",
     "start_time": "2017-10-10T06:20:16.820522Z"
    },
    "collapsed": false,
    "hidden": true
   },
   "outputs": [
    {
     "name": "stdout",
     "output_type": "stream",
     "text": [
      "Epoch 1/1\n",
      "60000/60000 [==============================] - 12s - loss: 0.4285 - acc: 0.8737 - val_loss: 0.3020 - val_acc: 0.9136\n"
     ]
    },
    {
     "data": {
      "text/plain": [
       "<keras.callbacks.History at 0x7f364e954210>"
      ]
     },
     "execution_count": 14,
     "metadata": {},
     "output_type": "execute_result"
    }
   ],
   "source": [
    "#Run the model for 1 epoch using the default learning rate\n",
    "lm.fit_generator(batches, batches.N, nb_epoch=1, validation_data=val_batches, nb_val_samples=val_batches.N)"
   ]
  },
  {
   "cell_type": "code",
   "execution_count": 15,
   "metadata": {
    "ExecuteTime": {
     "end_time": "2017-10-10T06:20:45.908137Z",
     "start_time": "2017-10-10T06:20:45.905168Z"
    },
    "collapsed": true,
    "hidden": true
   },
   "outputs": [],
   "source": [
    "lm.optimizer.lr = 0.1"
   ]
  },
  {
   "cell_type": "code",
   "execution_count": 16,
   "metadata": {
    "ExecuteTime": {
     "end_time": "2017-10-10T06:21:08.886968Z",
     "start_time": "2017-10-10T06:20:56.186606Z"
    },
    "collapsed": false,
    "hidden": true
   },
   "outputs": [
    {
     "name": "stdout",
     "output_type": "stream",
     "text": [
      "Epoch 1/1\n",
      "60000/60000 [==============================] - 12s - loss: 0.2988 - acc: 0.9146 - val_loss: 0.2997 - val_acc: 0.9168\n"
     ]
    },
    {
     "data": {
      "text/plain": [
       "<keras.callbacks.History at 0x7f364e8b8450>"
      ]
     },
     "execution_count": 16,
     "metadata": {},
     "output_type": "execute_result"
    }
   ],
   "source": [
    "lm.fit_generator(batches, batches.N, nb_epoch=1, validation_data=val_batches, nb_val_samples=val_batches.N)"
   ]
  },
  {
   "cell_type": "code",
   "execution_count": 17,
   "metadata": {
    "ExecuteTime": {
     "end_time": "2017-10-10T06:21:22.079989Z",
     "start_time": "2017-10-10T06:21:22.077080Z"
    },
    "collapsed": true,
    "hidden": true
   },
   "outputs": [],
   "source": [
    "lm.optimizer.lr = 0.01"
   ]
  },
  {
   "cell_type": "code",
   "execution_count": 18,
   "metadata": {
    "ExecuteTime": {
     "end_time": "2017-10-10T06:22:20.384637Z",
     "start_time": "2017-10-10T06:21:29.568070Z"
    },
    "collapsed": false,
    "hidden": true
   },
   "outputs": [
    {
     "name": "stdout",
     "output_type": "stream",
     "text": [
      "Epoch 1/4\n",
      "60000/60000 [==============================] - 12s - loss: 0.2847 - acc: 0.9206 - val_loss: 0.2845 - val_acc: 0.9216\n",
      "Epoch 2/4\n",
      "60000/60000 [==============================] - 12s - loss: 0.2772 - acc: 0.9229 - val_loss: 0.2800 - val_acc: 0.9202\n",
      "Epoch 3/4\n",
      "60000/60000 [==============================] - 12s - loss: 0.2724 - acc: 0.9244 - val_loss: 0.2820 - val_acc: 0.9214\n",
      "Epoch 4/4\n",
      "60000/60000 [==============================] - 12s - loss: 0.2683 - acc: 0.9255 - val_loss: 0.2696 - val_acc: 0.9251\n"
     ]
    },
    {
     "data": {
      "text/plain": [
       "<keras.callbacks.History at 0x7f364e8b8a90>"
      ]
     },
     "execution_count": 18,
     "metadata": {},
     "output_type": "execute_result"
    }
   ],
   "source": [
    "lm.fit_generator(batches, batches.N, nb_epoch=4, validation_data=val_batches, nb_val_samples=val_batches.N)"
   ]
  },
  {
   "cell_type": "markdown",
   "metadata": {
    "heading_collapsed": true
   },
   "source": [
    "# Single Dense Layer"
   ]
  },
  {
   "cell_type": "code",
   "execution_count": 32,
   "metadata": {
    "ExecuteTime": {
     "end_time": "2017-10-10T06:43:42.106627Z",
     "start_time": "2017-10-10T06:43:42.099993Z"
    },
    "collapsed": true,
    "hidden": true
   },
   "outputs": [],
   "source": [
    "def get_fc_model():\n",
    "    model = Sequential([\n",
    "            Lambda(normalise, input_shape=x_train.shape[1:]),\n",
    "            Flatten(),\n",
    "            Dense(512, activation='softmax'),\n",
    "            Dense(10, activation='softmax')\n",
    "        ])\n",
    "    model.compile(Adam(), loss='categorical_crossentropy', metrics=['accuracy'])\n",
    "    return model"
   ]
  },
  {
   "cell_type": "code",
   "execution_count": 33,
   "metadata": {
    "ExecuteTime": {
     "end_time": "2017-10-10T06:44:14.528682Z",
     "start_time": "2017-10-10T06:44:14.504386Z"
    },
    "collapsed": true,
    "hidden": true
   },
   "outputs": [],
   "source": [
    "fc = get_fc_model()"
   ]
  },
  {
   "cell_type": "code",
   "execution_count": 34,
   "metadata": {
    "ExecuteTime": {
     "end_time": "2017-10-10T06:44:30.039001Z",
     "start_time": "2017-10-10T06:44:15.560831Z"
    },
    "collapsed": false,
    "hidden": true
   },
   "outputs": [
    {
     "name": "stdout",
     "output_type": "stream",
     "text": [
      "Epoch 1/1\n",
      "60000/60000 [==============================] - 13s - loss: 1.5455 - acc: 0.8841 - val_loss: 1.0126 - val_acc: 0.9206\n"
     ]
    },
    {
     "data": {
      "text/plain": [
       "<keras.callbacks.History at 0x7f364516b7d0>"
      ]
     },
     "execution_count": 34,
     "metadata": {},
     "output_type": "execute_result"
    }
   ],
   "source": [
    "fc.fit_generator(batches, batches.N, nb_epoch=1, validation_data=val_batches, nb_val_samples=val_batches.N)"
   ]
  },
  {
   "cell_type": "code",
   "execution_count": 35,
   "metadata": {
    "ExecuteTime": {
     "end_time": "2017-10-10T06:44:41.342948Z",
     "start_time": "2017-10-10T06:44:41.339851Z"
    },
    "collapsed": true,
    "hidden": true
   },
   "outputs": [],
   "source": [
    "fc.optimizer.lr=0.1"
   ]
  },
  {
   "cell_type": "code",
   "execution_count": 36,
   "metadata": {
    "ExecuteTime": {
     "end_time": "2017-10-10T06:44:55.459255Z",
     "start_time": "2017-10-10T06:44:42.229832Z"
    },
    "collapsed": false,
    "hidden": true
   },
   "outputs": [
    {
     "name": "stdout",
     "output_type": "stream",
     "text": [
      "Epoch 1/1\n",
      "60000/60000 [==============================] - 13s - loss: 0.7477 - acc: 0.9240 - val_loss: 0.5532 - val_acc: 0.9278\n"
     ]
    },
    {
     "data": {
      "text/plain": [
       "<keras.callbacks.History at 0x7f3644f84c90>"
      ]
     },
     "execution_count": 36,
     "metadata": {},
     "output_type": "execute_result"
    }
   ],
   "source": [
    "fc.fit_generator(batches, batches.N, nb_epoch=1, validation_data=val_batches, nb_val_samples=val_batches.N)"
   ]
  },
  {
   "cell_type": "code",
   "execution_count": 37,
   "metadata": {
    "ExecuteTime": {
     "end_time": "2017-10-10T06:44:55.489278Z",
     "start_time": "2017-10-10T06:44:55.484756Z"
    },
    "collapsed": true,
    "hidden": true
   },
   "outputs": [],
   "source": [
    "fc.optimizer.lr=0.01"
   ]
  },
  {
   "cell_type": "code",
   "execution_count": 38,
   "metadata": {
    "ExecuteTime": {
     "end_time": "2017-10-10T06:45:49.071278Z",
     "start_time": "2017-10-10T06:44:55.505836Z"
    },
    "collapsed": false,
    "hidden": true
   },
   "outputs": [
    {
     "name": "stdout",
     "output_type": "stream",
     "text": [
      "Epoch 1/4\n",
      "60000/60000 [==============================] - 13s - loss: 0.4626 - acc: 0.9297 - val_loss: 0.3962 - val_acc: 0.9319\n",
      "Epoch 2/4\n",
      "60000/60000 [==============================] - 13s - loss: 0.3513 - acc: 0.9355 - val_loss: 0.3270 - val_acc: 0.9359\n",
      "Epoch 3/4\n",
      "60000/60000 [==============================] - 13s - loss: 0.3021 - acc: 0.9382 - val_loss: 0.3106 - val_acc: 0.9319\n",
      "Epoch 4/4\n",
      "60000/60000 [==============================] - 13s - loss: 0.2740 - acc: 0.9409 - val_loss: 0.2832 - val_acc: 0.9367\n"
     ]
    },
    {
     "data": {
      "text/plain": [
       "<keras.callbacks.History at 0x7f3644f84f50>"
      ]
     },
     "execution_count": 38,
     "metadata": {},
     "output_type": "execute_result"
    }
   ],
   "source": [
    "fc.fit_generator(batches, batches.N, nb_epoch=4, validation_data=val_batches, nb_val_samples=val_batches.N)"
   ]
  },
  {
   "cell_type": "markdown",
   "metadata": {},
   "source": [
    "# Basic VGG-style CNN"
   ]
  },
  {
   "cell_type": "code",
   "execution_count": 8,
   "metadata": {
    "ExecuteTime": {
     "end_time": "2017-10-11T05:56:09.019049Z",
     "start_time": "2017-10-11T05:56:09.009562Z"
    },
    "collapsed": true
   },
   "outputs": [],
   "source": [
    "def get_model():\n",
    "    model = Sequential([\n",
    "            Lambda(normalise, input_shape=x_train.shape[1:]),\n",
    "            Convolution2D(32, 3, 3, activation='relu'),\n",
    "            Convolution2D(32, 3, 3, activation='relu'),\n",
    "            MaxPooling2D(),\n",
    "            Convolution2D(64, 3, 3, activation='relu'),\n",
    "            Convolution2D(64, 3, 3, activation='relu'),\n",
    "            MaxPooling2D(),\n",
    "            Flatten(),\n",
    "            Dense(512, activation='relu'),\n",
    "            Dense(10, activation='softmax')\n",
    "        ])\n",
    "    model.compile(Adam(), loss='categorical_crossentropy', metrics=['accuracy'])\n",
    "    return model"
   ]
  },
  {
   "cell_type": "code",
   "execution_count": 45,
   "metadata": {
    "ExecuteTime": {
     "end_time": "2017-10-10T06:55:00.671958Z",
     "start_time": "2017-10-10T06:55:00.577812Z"
    },
    "collapsed": true
   },
   "outputs": [],
   "source": [
    "model = get_model()"
   ]
  },
  {
   "cell_type": "code",
   "execution_count": 46,
   "metadata": {
    "ExecuteTime": {
     "end_time": "2017-10-10T06:56:17.321556Z",
     "start_time": "2017-10-10T06:55:18.071458Z"
    },
    "collapsed": false
   },
   "outputs": [
    {
     "name": "stdout",
     "output_type": "stream",
     "text": [
      "Epoch 1/1\n",
      "60000/60000 [==============================] - 21s - loss: 0.1085 - acc: 0.9667 - val_loss: 0.0524 - val_acc: 0.9828\n"
     ]
    },
    {
     "data": {
      "text/plain": [
       "<keras.callbacks.History at 0x7f363a7d9410>"
      ]
     },
     "execution_count": 46,
     "metadata": {},
     "output_type": "execute_result"
    }
   ],
   "source": [
    "model.fit_generator(batches, batches.N, nb_epoch=1, validation_data=val_batches, nb_val_samples=val_batches.N)"
   ]
  },
  {
   "cell_type": "code",
   "execution_count": 47,
   "metadata": {
    "ExecuteTime": {
     "end_time": "2017-10-10T06:56:17.352703Z",
     "start_time": "2017-10-10T06:56:17.348638Z"
    },
    "collapsed": true
   },
   "outputs": [],
   "source": [
    "model.optimizer.lr=0.1"
   ]
  },
  {
   "cell_type": "code",
   "execution_count": 48,
   "metadata": {
    "ExecuteTime": {
     "end_time": "2017-10-10T06:56:38.499328Z",
     "start_time": "2017-10-10T06:56:17.372724Z"
    },
    "collapsed": false
   },
   "outputs": [
    {
     "name": "stdout",
     "output_type": "stream",
     "text": [
      "Epoch 1/1\n",
      "60000/60000 [==============================] - 21s - loss: 0.0374 - acc: 0.9883 - val_loss: 0.0223 - val_acc: 0.9932\n"
     ]
    },
    {
     "data": {
      "text/plain": [
       "<keras.callbacks.History at 0x7f363915cc50>"
      ]
     },
     "execution_count": 48,
     "metadata": {},
     "output_type": "execute_result"
    }
   ],
   "source": [
    "model.fit_generator(batches, batches.N, nb_epoch=1, validation_data=val_batches, nb_val_samples=val_batches.N)"
   ]
  },
  {
   "cell_type": "code",
   "execution_count": 49,
   "metadata": {
    "ExecuteTime": {
     "end_time": "2017-10-10T06:56:38.532721Z",
     "start_time": "2017-10-10T06:56:38.528726Z"
    },
    "collapsed": true
   },
   "outputs": [],
   "source": [
    "model.optimizer.lr=0.01"
   ]
  },
  {
   "cell_type": "code",
   "execution_count": 50,
   "metadata": {
    "ExecuteTime": {
     "end_time": "2017-10-10T06:59:25.566671Z",
     "start_time": "2017-10-10T06:56:38.552965Z"
    },
    "collapsed": false
   },
   "outputs": [
    {
     "name": "stdout",
     "output_type": "stream",
     "text": [
      "Epoch 1/8\n",
      "60000/60000 [==============================] - 20s - loss: 0.0238 - acc: 0.9922 - val_loss: 0.0262 - val_acc: 0.9918\n",
      "Epoch 2/8\n",
      "60000/60000 [==============================] - 20s - loss: 0.0188 - acc: 0.9941 - val_loss: 0.0364 - val_acc: 0.9907\n",
      "Epoch 3/8\n",
      "60000/60000 [==============================] - 20s - loss: 0.0149 - acc: 0.9953 - val_loss: 0.0265 - val_acc: 0.9931\n",
      "Epoch 4/8\n",
      "60000/60000 [==============================] - 21s - loss: 0.0125 - acc: 0.9960 - val_loss: 0.0365 - val_acc: 0.9907\n",
      "Epoch 5/8\n",
      "60000/60000 [==============================] - 20s - loss: 0.0116 - acc: 0.9964 - val_loss: 0.0275 - val_acc: 0.9932\n",
      "Epoch 6/8\n",
      "60000/60000 [==============================] - 20s - loss: 0.0077 - acc: 0.9976 - val_loss: 0.0179 - val_acc: 0.9947\n",
      "Epoch 7/8\n",
      "60000/60000 [==============================] - 20s - loss: 0.0087 - acc: 0.9972 - val_loss: 0.0292 - val_acc: 0.9927\n",
      "Epoch 8/8\n",
      "60000/60000 [==============================] - 20s - loss: 0.0077 - acc: 0.9977 - val_loss: 0.0270 - val_acc: 0.9930\n"
     ]
    },
    {
     "data": {
      "text/plain": [
       "<keras.callbacks.History at 0x7f363915c890>"
      ]
     },
     "execution_count": 50,
     "metadata": {},
     "output_type": "execute_result"
    }
   ],
   "source": [
    "model.fit_generator(batches, batches.N, nb_epoch=8, validation_data=val_batches, nb_val_samples=val_batches.N)"
   ]
  },
  {
   "cell_type": "markdown",
   "metadata": {},
   "source": [
    "# Reducing Overfitting"
   ]
  },
  {
   "cell_type": "code",
   "execution_count": 9,
   "metadata": {
    "ExecuteTime": {
     "end_time": "2017-10-11T05:56:25.381987Z",
     "start_time": "2017-10-11T05:56:25.274209Z"
    },
    "collapsed": true
   },
   "outputs": [],
   "source": [
    "model = get_model()"
   ]
  },
  {
   "cell_type": "code",
   "execution_count": 15,
   "metadata": {
    "ExecuteTime": {
     "end_time": "2017-10-11T06:01:15.144791Z",
     "start_time": "2017-10-11T06:01:15.140686Z"
    },
    "collapsed": false
   },
   "outputs": [],
   "source": [
    "gen = image.ImageDataGenerator(rotation_range=8, width_shift_range=0.08, shear_range=0.3, zoom_range=0.08, height_shift_range=0.08)\n",
    "batches = gen.flow(x_train, y_train, batch_size=64)\n",
    "val_batches = gen.flow(x_test, y_test, batch_size=64)"
   ]
  },
  {
   "cell_type": "code",
   "execution_count": 16,
   "metadata": {
    "ExecuteTime": {
     "end_time": "2017-10-11T06:02:26.232400Z",
     "start_time": "2017-10-11T06:02:00.726468Z"
    },
    "collapsed": false
   },
   "outputs": [
    {
     "name": "stdout",
     "output_type": "stream",
     "text": [
      "Epoch 1/1\n",
      "60000/60000 [==============================] - 20s - loss: 0.1973 - acc: 0.9369 - val_loss: 0.0700 - val_acc: 0.9793\n"
     ]
    },
    {
     "data": {
      "text/plain": [
       "<keras.callbacks.History at 0x7f447a17a9d0>"
      ]
     },
     "execution_count": 16,
     "metadata": {},
     "output_type": "execute_result"
    }
   ],
   "source": [
    "model.fit_generator(batches, batches.N, nb_epoch=1, validation_data=val_batches, nb_val_samples=val_batches.N)"
   ]
  },
  {
   "cell_type": "code",
   "execution_count": 17,
   "metadata": {
    "ExecuteTime": {
     "end_time": "2017-10-11T06:02:26.262137Z",
     "start_time": "2017-10-11T06:02:26.258973Z"
    },
    "collapsed": true
   },
   "outputs": [],
   "source": [
    "model.optimizer.lr = 0.1"
   ]
  },
  {
   "cell_type": "code",
   "execution_count": 18,
   "metadata": {
    "ExecuteTime": {
     "end_time": "2017-10-11T06:03:44.757602Z",
     "start_time": "2017-10-11T06:02:26.277167Z"
    },
    "collapsed": false
   },
   "outputs": [
    {
     "name": "stdout",
     "output_type": "stream",
     "text": [
      "Epoch 1/4\n",
      "60000/60000 [==============================] - 19s - loss: 0.0696 - acc: 0.9783 - val_loss: 0.0535 - val_acc: 0.9837\n",
      "Epoch 2/4\n",
      "60000/60000 [==============================] - 19s - loss: 0.0560 - acc: 0.9819 - val_loss: 0.0442 - val_acc: 0.9853\n",
      "Epoch 3/4\n",
      "60000/60000 [==============================] - 19s - loss: 0.0466 - acc: 0.9857 - val_loss: 0.0447 - val_acc: 0.9839\n",
      "Epoch 4/4\n",
      "60000/60000 [==============================] - 19s - loss: 0.0438 - acc: 0.9870 - val_loss: 0.0410 - val_acc: 0.9871\n"
     ]
    },
    {
     "data": {
      "text/plain": [
       "<keras.callbacks.History at 0x7f446d2e6890>"
      ]
     },
     "execution_count": 18,
     "metadata": {},
     "output_type": "execute_result"
    }
   ],
   "source": [
    "model.fit_generator(batches, batches.N, nb_epoch=4, validation_data=val_batches, nb_val_samples=val_batches.N)"
   ]
  },
  {
   "cell_type": "code",
   "execution_count": 19,
   "metadata": {
    "ExecuteTime": {
     "end_time": "2017-10-11T06:03:44.790151Z",
     "start_time": "2017-10-11T06:03:44.786154Z"
    },
    "collapsed": true
   },
   "outputs": [],
   "source": [
    "model.optimizer.lr = 0.01"
   ]
  },
  {
   "cell_type": "code",
   "execution_count": 20,
   "metadata": {
    "ExecuteTime": {
     "end_time": "2017-10-11T06:06:22.225644Z",
     "start_time": "2017-10-11T06:03:44.810218Z"
    },
    "collapsed": false
   },
   "outputs": [
    {
     "name": "stdout",
     "output_type": "stream",
     "text": [
      "Epoch 1/8\n",
      "60000/60000 [==============================] - 19s - loss: 0.0391 - acc: 0.9879 - val_loss: 0.0370 - val_acc: 0.9891\n",
      "Epoch 2/8\n",
      "60000/60000 [==============================] - 19s - loss: 0.0362 - acc: 0.9887 - val_loss: 0.0355 - val_acc: 0.9891\n",
      "Epoch 3/8\n",
      "60000/60000 [==============================] - 19s - loss: 0.0344 - acc: 0.9890 - val_loss: 0.0339 - val_acc: 0.9892\n",
      "Epoch 4/8\n",
      "60000/60000 [==============================] - 19s - loss: 0.0322 - acc: 0.9899 - val_loss: 0.0332 - val_acc: 0.9897\n",
      "Epoch 5/8\n",
      "60000/60000 [==============================] - 19s - loss: 0.0298 - acc: 0.9909 - val_loss: 0.0274 - val_acc: 0.9907\n",
      "Epoch 6/8\n",
      "60000/60000 [==============================] - 19s - loss: 0.0286 - acc: 0.9906 - val_loss: 0.0327 - val_acc: 0.9906\n",
      "Epoch 7/8\n",
      "60000/60000 [==============================] - 19s - loss: 0.0284 - acc: 0.9913 - val_loss: 0.0354 - val_acc: 0.9881\n",
      "Epoch 8/8\n",
      "60000/60000 [==============================] - 19s - loss: 0.0264 - acc: 0.9914 - val_loss: 0.0289 - val_acc: 0.9891\n"
     ]
    },
    {
     "data": {
      "text/plain": [
       "<keras.callbacks.History at 0x7f446d2e6790>"
      ]
     },
     "execution_count": 20,
     "metadata": {},
     "output_type": "execute_result"
    }
   ],
   "source": [
    "model.fit_generator(batches, batches.N, nb_epoch=8, validation_data=val_batches, nb_val_samples=val_batches.N)"
   ]
  },
  {
   "cell_type": "code",
   "execution_count": 21,
   "metadata": {
    "ExecuteTime": {
     "end_time": "2017-10-11T06:06:22.250265Z",
     "start_time": "2017-10-11T06:06:22.247078Z"
    },
    "collapsed": true
   },
   "outputs": [],
   "source": [
    "model.optimizer.lr = 0.001"
   ]
  },
  {
   "cell_type": "code",
   "execution_count": 22,
   "metadata": {
    "ExecuteTime": {
     "end_time": "2017-10-11T06:10:59.414775Z",
     "start_time": "2017-10-11T06:06:22.266612Z"
    },
    "collapsed": false
   },
   "outputs": [
    {
     "name": "stdout",
     "output_type": "stream",
     "text": [
      "Epoch 1/14\n",
      "60000/60000 [==============================] - 19s - loss: 0.0257 - acc: 0.9917 - val_loss: 0.0239 - val_acc: 0.9924\n",
      "Epoch 2/14\n",
      "60000/60000 [==============================] - 20s - loss: 0.0257 - acc: 0.9917 - val_loss: 0.0317 - val_acc: 0.9903\n",
      "Epoch 3/14\n",
      "60000/60000 [==============================] - 19s - loss: 0.0248 - acc: 0.9925 - val_loss: 0.0240 - val_acc: 0.9927\n",
      "Epoch 4/14\n",
      "60000/60000 [==============================] - 19s - loss: 0.0239 - acc: 0.9928 - val_loss: 0.0340 - val_acc: 0.9902\n",
      "Epoch 5/14\n",
      "60000/60000 [==============================] - 19s - loss: 0.0226 - acc: 0.9928 - val_loss: 0.0289 - val_acc: 0.9908\n",
      "Epoch 6/14\n",
      "60000/60000 [==============================] - 19s - loss: 0.0221 - acc: 0.9933 - val_loss: 0.0238 - val_acc: 0.9921\n",
      "Epoch 7/14\n",
      "60000/60000 [==============================] - 20s - loss: 0.0232 - acc: 0.9927 - val_loss: 0.0274 - val_acc: 0.9912\n",
      "Epoch 8/14\n",
      "60000/60000 [==============================] - 19s - loss: 0.0203 - acc: 0.9934 - val_loss: 0.0274 - val_acc: 0.9926\n",
      "Epoch 9/14\n",
      "60000/60000 [==============================] - 19s - loss: 0.0228 - acc: 0.9929 - val_loss: 0.0238 - val_acc: 0.9926\n",
      "Epoch 10/14\n",
      "60000/60000 [==============================] - 19s - loss: 0.0212 - acc: 0.9933 - val_loss: 0.0310 - val_acc: 0.9907\n",
      "Epoch 11/14\n",
      "60000/60000 [==============================] - 19s - loss: 0.0190 - acc: 0.9937 - val_loss: 0.0271 - val_acc: 0.9930\n",
      "Epoch 12/14\n",
      "60000/60000 [==============================] - 20s - loss: 0.0206 - acc: 0.9931 - val_loss: 0.0310 - val_acc: 0.9904\n",
      "Epoch 13/14\n",
      "60000/60000 [==============================] - 20s - loss: 0.0193 - acc: 0.9939 - val_loss: 0.0210 - val_acc: 0.9932\n",
      "Epoch 14/14\n",
      "60000/60000 [==============================] - 20s - loss: 0.0201 - acc: 0.9934 - val_loss: 0.0320 - val_acc: 0.9909\n"
     ]
    },
    {
     "data": {
      "text/plain": [
       "<keras.callbacks.History at 0x7f447a17aa10>"
      ]
     },
     "execution_count": 22,
     "metadata": {},
     "output_type": "execute_result"
    }
   ],
   "source": [
    "model.fit_generator(batches, batches.N, nb_epoch=14, validation_data=val_batches, nb_val_samples=val_batches.N)"
   ]
  },
  {
   "cell_type": "code",
   "execution_count": 23,
   "metadata": {
    "ExecuteTime": {
     "end_time": "2017-10-11T06:10:59.435890Z",
     "start_time": "2017-10-11T06:10:59.432816Z"
    },
    "collapsed": true
   },
   "outputs": [],
   "source": [
    "model.optimizer.lr = 0.0001"
   ]
  },
  {
   "cell_type": "code",
   "execution_count": 24,
   "metadata": {
    "ExecuteTime": {
     "end_time": "2017-10-11T06:14:15.627745Z",
     "start_time": "2017-10-11T06:10:59.450748Z"
    },
    "collapsed": false
   },
   "outputs": [
    {
     "name": "stdout",
     "output_type": "stream",
     "text": [
      "Epoch 1/10\n",
      "60000/60000 [==============================] - 19s - loss: 0.0182 - acc: 0.9944 - val_loss: 0.0274 - val_acc: 0.9930\n",
      "Epoch 2/10\n",
      "60000/60000 [==============================] - 19s - loss: 0.0210 - acc: 0.9934 - val_loss: 0.0284 - val_acc: 0.9921\n",
      "Epoch 3/10\n",
      "60000/60000 [==============================] - 19s - loss: 0.0190 - acc: 0.9940 - val_loss: 0.0276 - val_acc: 0.9914\n",
      "Epoch 4/10\n",
      "60000/60000 [==============================] - 19s - loss: 0.0181 - acc: 0.9943 - val_loss: 0.0325 - val_acc: 0.9905\n",
      "Epoch 5/10\n",
      "60000/60000 [==============================] - 19s - loss: 0.0182 - acc: 0.9943 - val_loss: 0.0269 - val_acc: 0.9922\n",
      "Epoch 6/10\n",
      "60000/60000 [==============================] - 19s - loss: 0.0190 - acc: 0.9940 - val_loss: 0.0263 - val_acc: 0.9921\n",
      "Epoch 7/10\n",
      "60000/60000 [==============================] - 19s - loss: 0.0175 - acc: 0.9946 - val_loss: 0.0240 - val_acc: 0.9931\n",
      "Epoch 8/10\n",
      "60000/60000 [==============================] - 19s - loss: 0.0165 - acc: 0.9947 - val_loss: 0.0300 - val_acc: 0.9906\n",
      "Epoch 9/10\n",
      "60000/60000 [==============================] - 19s - loss: 0.0181 - acc: 0.9942 - val_loss: 0.0288 - val_acc: 0.9920\n",
      "Epoch 10/10\n",
      "60000/60000 [==============================] - 19s - loss: 0.0173 - acc: 0.9946 - val_loss: 0.0321 - val_acc: 0.9909\n"
     ]
    },
    {
     "data": {
      "text/plain": [
       "<keras.callbacks.History at 0x7f446d2e6690>"
      ]
     },
     "execution_count": 24,
     "metadata": {},
     "output_type": "execute_result"
    }
   ],
   "source": [
    "model.fit_generator(batches, batches.N, nb_epoch=10, validation_data=val_batches, nb_val_samples=val_batches.N)"
   ]
  },
  {
   "cell_type": "markdown",
   "metadata": {},
   "source": [
    "# Batchnorm + data Augmentation"
   ]
  },
  {
   "cell_type": "code",
   "execution_count": 25,
   "metadata": {
    "ExecuteTime": {
     "end_time": "2017-10-11T06:15:44.859121Z",
     "start_time": "2017-10-11T06:15:44.847363Z"
    },
    "collapsed": true
   },
   "outputs": [],
   "source": [
    "def get_model_bn():\n",
    "    model = Sequential([\n",
    "            Lambda(normalise, input_shape=x_train.shape[1:]),\n",
    "            Convolution2D(32, 3, 3, activation='relu'),\n",
    "            BatchNormalization(axis=1),\n",
    "            Convolution2D(32, 3, 3, activation='relu'),\n",
    "            MaxPooling2D(),\n",
    "            BatchNormalization(axis=1),\n",
    "            Convolution2D(64, 3, 3, activation='relu'),\n",
    "            BatchNormalization(axis=1),\n",
    "            Convolution2D(64, 3, 3, activation='relu'),\n",
    "            MaxPooling2D(),\n",
    "            Flatten(), \n",
    "            BatchNormalization(),\n",
    "            Dense(512, activation='relu'),\n",
    "            BatchNormalization(),\n",
    "            Dense(10, activation='softmax')\n",
    "        ])\n",
    "    \n",
    "    model.compile(Adam(), loss='categorical_crossentropy', metrics=['accuracy'])\n",
    "    return  model"
   ]
  },
  {
   "cell_type": "code",
   "execution_count": 26,
   "metadata": {
    "ExecuteTime": {
     "end_time": "2017-10-11T06:15:46.262289Z",
     "start_time": "2017-10-11T06:15:46.099168Z"
    },
    "collapsed": true
   },
   "outputs": [],
   "source": [
    "model = get_model_bn()"
   ]
  },
  {
   "cell_type": "code",
   "execution_count": 27,
   "metadata": {
    "ExecuteTime": {
     "end_time": "2017-10-11T06:18:31.907503Z",
     "start_time": "2017-10-11T06:15:47.085416Z"
    },
    "collapsed": false
   },
   "outputs": [
    {
     "name": "stdout",
     "output_type": "stream",
     "text": [
      "Epoch 1/1\n",
      "60000/60000 [==============================] - 45s - loss: 0.1622 - acc: 0.9496 - val_loss: 0.0631 - val_acc: 0.9785\n"
     ]
    },
    {
     "data": {
      "text/plain": [
       "<keras.callbacks.History at 0x7f444b28fd90>"
      ]
     },
     "execution_count": 27,
     "metadata": {},
     "output_type": "execute_result"
    }
   ],
   "source": [
    "model.fit_generator(batches, batches.N, nb_epoch=1, validation_data=val_batches, nb_val_samples=val_batches.N)"
   ]
  },
  {
   "cell_type": "code",
   "execution_count": 28,
   "metadata": {
    "ExecuteTime": {
     "end_time": "2017-10-11T06:18:31.935113Z",
     "start_time": "2017-10-11T06:18:31.931012Z"
    },
    "collapsed": true
   },
   "outputs": [],
   "source": [
    "model.optimizer.lr = 0.1"
   ]
  },
  {
   "cell_type": "code",
   "execution_count": 29,
   "metadata": {
    "ExecuteTime": {
     "end_time": "2017-10-11T06:21:33.651060Z",
     "start_time": "2017-10-11T06:18:31.956069Z"
    },
    "collapsed": false
   },
   "outputs": [
    {
     "name": "stdout",
     "output_type": "stream",
     "text": [
      "Epoch 1/4\n",
      "60000/60000 [==============================] - 45s - loss: 0.0712 - acc: 0.9780 - val_loss: 0.0554 - val_acc: 0.9815\n",
      "Epoch 2/4\n",
      "60000/60000 [==============================] - 45s - loss: 0.0592 - acc: 0.9813 - val_loss: 0.0460 - val_acc: 0.9841\n",
      "Epoch 3/4\n",
      "60000/60000 [==============================] - 45s - loss: 0.0529 - acc: 0.9837 - val_loss: 0.0362 - val_acc: 0.9883\n",
      "Epoch 4/4\n",
      "60000/60000 [==============================] - 45s - loss: 0.0470 - acc: 0.9850 - val_loss: 0.0339 - val_acc: 0.9897\n"
     ]
    },
    {
     "data": {
      "text/plain": [
       "<keras.callbacks.History at 0x7f444b2897d0>"
      ]
     },
     "execution_count": 29,
     "metadata": {},
     "output_type": "execute_result"
    }
   ],
   "source": [
    "model.fit_generator(batches, batches.N, nb_epoch=4, validation_data=val_batches, nb_val_samples=val_batches.N)"
   ]
  },
  {
   "cell_type": "code",
   "execution_count": 30,
   "metadata": {
    "ExecuteTime": {
     "end_time": "2017-10-11T06:21:33.683254Z",
     "start_time": "2017-10-11T06:21:33.679774Z"
    },
    "collapsed": true
   },
   "outputs": [],
   "source": [
    "model.optimizer.lr = 0.01"
   ]
  },
  {
   "cell_type": "code",
   "execution_count": 31,
   "metadata": {
    "ExecuteTime": {
     "end_time": "2017-10-11T06:30:35.480363Z",
     "start_time": "2017-10-11T06:21:33.698069Z"
    },
    "collapsed": false
   },
   "outputs": [
    {
     "name": "stdout",
     "output_type": "stream",
     "text": [
      "Epoch 1/12\n",
      "60000/60000 [==============================] - 44s - loss: 0.0448 - acc: 0.9863 - val_loss: 0.0453 - val_acc: 0.9861\n",
      "Epoch 2/12\n",
      "60000/60000 [==============================] - 45s - loss: 0.0408 - acc: 0.9874 - val_loss: 0.0377 - val_acc: 0.9879\n",
      "Epoch 3/12\n",
      "60000/60000 [==============================] - 45s - loss: 0.0399 - acc: 0.9875 - val_loss: 0.0320 - val_acc: 0.9902\n",
      "Epoch 4/12\n",
      "60000/60000 [==============================] - 45s - loss: 0.0352 - acc: 0.9883 - val_loss: 0.0369 - val_acc: 0.9874\n",
      "Epoch 5/12\n",
      "60000/60000 [==============================] - 45s - loss: 0.0337 - acc: 0.9889 - val_loss: 0.0289 - val_acc: 0.9909\n",
      "Epoch 6/12\n",
      "60000/60000 [==============================] - 45s - loss: 0.0346 - acc: 0.9892 - val_loss: 0.0324 - val_acc: 0.9900\n",
      "Epoch 7/12\n",
      "60000/60000 [==============================] - 44s - loss: 0.0297 - acc: 0.9908 - val_loss: 0.0293 - val_acc: 0.9907\n",
      "Epoch 8/12\n",
      "60000/60000 [==============================] - 44s - loss: 0.0285 - acc: 0.9907 - val_loss: 0.0226 - val_acc: 0.9934\n",
      "Epoch 9/12\n",
      "60000/60000 [==============================] - 45s - loss: 0.0302 - acc: 0.9906 - val_loss: 0.0264 - val_acc: 0.9912\n",
      "Epoch 10/12\n",
      "60000/60000 [==============================] - 45s - loss: 0.0281 - acc: 0.9909 - val_loss: 0.0264 - val_acc: 0.9917\n",
      "Epoch 11/12\n",
      "60000/60000 [==============================] - 45s - loss: 0.0270 - acc: 0.9913 - val_loss: 0.0318 - val_acc: 0.9912\n",
      "Epoch 12/12\n",
      "60000/60000 [==============================] - 44s - loss: 0.0239 - acc: 0.9925 - val_loss: 0.0278 - val_acc: 0.9910\n"
     ]
    },
    {
     "data": {
      "text/plain": [
       "<keras.callbacks.History at 0x7f444b289350>"
      ]
     },
     "execution_count": 31,
     "metadata": {},
     "output_type": "execute_result"
    }
   ],
   "source": [
    "model.fit_generator(batches, batches.N, nb_epoch=12, validation_data=val_batches, nb_val_samples=val_batches.N)"
   ]
  },
  {
   "cell_type": "code",
   "execution_count": 32,
   "metadata": {
    "ExecuteTime": {
     "end_time": "2017-10-11T06:30:35.507548Z",
     "start_time": "2017-10-11T06:30:35.503960Z"
    },
    "collapsed": true
   },
   "outputs": [],
   "source": [
    "model.optimizer.lr = 0.001"
   ]
  },
  {
   "cell_type": "code",
   "execution_count": 33,
   "metadata": {
    "ExecuteTime": {
     "end_time": "2017-10-11T06:39:37.113599Z",
     "start_time": "2017-10-11T06:30:35.530254Z"
    },
    "collapsed": false
   },
   "outputs": [
    {
     "name": "stdout",
     "output_type": "stream",
     "text": [
      "Epoch 1/12\n",
      "60000/60000 [==============================] - 45s - loss: 0.0261 - acc: 0.9914 - val_loss: 0.0285 - val_acc: 0.9927\n",
      "Epoch 2/12\n",
      "60000/60000 [==============================] - 44s - loss: 0.0226 - acc: 0.9931 - val_loss: 0.0181 - val_acc: 0.9939\n",
      "Epoch 3/12\n",
      "60000/60000 [==============================] - 44s - loss: 0.0233 - acc: 0.9929 - val_loss: 0.0250 - val_acc: 0.9909\n",
      "Epoch 4/12\n",
      "60000/60000 [==============================] - 45s - loss: 0.0232 - acc: 0.9922 - val_loss: 0.0256 - val_acc: 0.9921\n",
      "Epoch 5/12\n",
      "60000/60000 [==============================] - 45s - loss: 0.0226 - acc: 0.9927 - val_loss: 0.0279 - val_acc: 0.9903\n",
      "Epoch 6/12\n",
      "60000/60000 [==============================] - 44s - loss: 0.0210 - acc: 0.9932 - val_loss: 0.0244 - val_acc: 0.9929\n",
      "Epoch 7/12\n",
      "60000/60000 [==============================] - 45s - loss: 0.0224 - acc: 0.9931 - val_loss: 0.0326 - val_acc: 0.9903\n",
      "Epoch 8/12\n",
      "60000/60000 [==============================] - 45s - loss: 0.0208 - acc: 0.9933 - val_loss: 0.0257 - val_acc: 0.9921\n",
      "Epoch 9/12\n",
      "60000/60000 [==============================] - 44s - loss: 0.0204 - acc: 0.9936 - val_loss: 0.0229 - val_acc: 0.9938\n",
      "Epoch 10/12\n",
      "60000/60000 [==============================] - 45s - loss: 0.0196 - acc: 0.9938 - val_loss: 0.0206 - val_acc: 0.9938\n",
      "Epoch 11/12\n",
      "60000/60000 [==============================] - 44s - loss: 0.0205 - acc: 0.9932 - val_loss: 0.0256 - val_acc: 0.9921\n",
      "Epoch 12/12\n",
      "60000/60000 [==============================] - 45s - loss: 0.0188 - acc: 0.9940 - val_loss: 0.0231 - val_acc: 0.9923\n"
     ]
    },
    {
     "data": {
      "text/plain": [
       "<keras.callbacks.History at 0x7f447cabfb50>"
      ]
     },
     "execution_count": 33,
     "metadata": {},
     "output_type": "execute_result"
    }
   ],
   "source": [
    "model.fit_generator(batches, batches.N, nb_epoch=12, validation_data=val_batches, nb_val_samples=val_batches.N)"
   ]
  },
  {
   "cell_type": "markdown",
   "metadata": {},
   "source": [
    "# Batchnorm + dropout + dataaugmentation"
   ]
  },
  {
   "cell_type": "code",
   "execution_count": 34,
   "metadata": {
    "ExecuteTime": {
     "end_time": "2017-10-11T06:39:37.147599Z",
     "start_time": "2017-10-11T06:39:37.129530Z"
    },
    "collapsed": true
   },
   "outputs": [],
   "source": [
    "def get_model_bn_do():\n",
    "    model = Sequential([\n",
    "            Lambda(normalise, input_shape=x_train.shape[1:]),\n",
    "            Convolution2D(32, 3, 3, activation='relu'),\n",
    "            BatchNormalization(axis=1),\n",
    "            Convolution2D(32, 3, 3, activation='relu'),\n",
    "            MaxPooling2D(),\n",
    "            BatchNormalization(axis=1),\n",
    "            Convolution2D(64, 3, 3, activation='relu'),\n",
    "            BatchNormalization(axis=1),\n",
    "            Convolution2D(64, 3, 3, activation='relu'),\n",
    "            MaxPooling2D(),\n",
    "            Flatten(), \n",
    "            BatchNormalization(),\n",
    "            Dense(512, activation='relu'),\n",
    "            BatchNormalization(),\n",
    "            Dropout(0.5),\n",
    "            Dense(10, activation='softmax')\n",
    "        ])\n",
    "    \n",
    "    model.compile(Adam(), loss='categorical_crossentropy', metrics=['accuracy'])\n",
    "    return  model"
   ]
  },
  {
   "cell_type": "code",
   "execution_count": 35,
   "metadata": {
    "ExecuteTime": {
     "end_time": "2017-10-11T06:39:37.384002Z",
     "start_time": "2017-10-11T06:39:37.164249Z"
    },
    "collapsed": true
   },
   "outputs": [],
   "source": [
    "model = get_model_bn_do()"
   ]
  },
  {
   "cell_type": "code",
   "execution_count": null,
   "metadata": {
    "ExecuteTime": {
     "start_time": "2017-10-11T06:24:43.746Z"
    },
    "collapsed": true
   },
   "outputs": [],
   "source": [
    "model.fit_generator(batches, batches.N, nb_epoch=1, validation_data=val_batches, nb_val_samples=val_batches.N)"
   ]
  },
  {
   "cell_type": "code",
   "execution_count": null,
   "metadata": {
    "ExecuteTime": {
     "start_time": "2017-10-11T06:24:43.903Z"
    },
    "collapsed": true
   },
   "outputs": [],
   "source": [
    "model.optimizer.lr = 0.1"
   ]
  },
  {
   "cell_type": "code",
   "execution_count": null,
   "metadata": {
    "ExecuteTime": {
     "start_time": "2017-10-11T06:24:44.060Z"
    },
    "collapsed": true
   },
   "outputs": [],
   "source": [
    "model.fit_generator(batches, batches.N, nb_epoch=4, validation_data=val_batches, nb_val_samples=val_batches.N)"
   ]
  },
  {
   "cell_type": "code",
   "execution_count": null,
   "metadata": {
    "ExecuteTime": {
     "start_time": "2017-10-11T06:24:44.230Z"
    },
    "collapsed": true
   },
   "outputs": [],
   "source": [
    "model.optimizer.lr = 0.01"
   ]
  },
  {
   "cell_type": "code",
   "execution_count": null,
   "metadata": {
    "ExecuteTime": {
     "start_time": "2017-10-11T06:24:44.386Z"
    },
    "collapsed": true
   },
   "outputs": [],
   "source": [
    "model.fit_generator(batches, batches.N, nb_epoch=12, validation_data=val_batches, nb_val_samples=val_batches.N)"
   ]
  },
  {
   "cell_type": "code",
   "execution_count": null,
   "metadata": {
    "ExecuteTime": {
     "start_time": "2017-10-11T06:24:44.562Z"
    },
    "collapsed": true
   },
   "outputs": [],
   "source": [
    "model.optimizer.lr = 0.001"
   ]
  },
  {
   "cell_type": "code",
   "execution_count": null,
   "metadata": {
    "ExecuteTime": {
     "start_time": "2017-10-11T06:24:44.725Z"
    },
    "collapsed": true
   },
   "outputs": [],
   "source": [
    "model.fit_generator(batches, batches.N, nb_epoch=12, validation_data=val_batches, nb_val_samples=val_batches.N)"
   ]
  },
  {
   "cell_type": "markdown",
   "metadata": {},
   "source": [
    "# Ensemble"
   ]
  },
  {
   "cell_type": "code",
   "execution_count": null,
   "metadata": {
    "collapsed": true
   },
   "outputs": [],
   "source": [
    "def fit_model():\n",
    "    model = get_model_bn_do()\n",
    "    model.fit_generator(batches, batches.N, nb_epoch=1, validation_data=val_batches, nb_val_samples=val_batches.N)\n",
    "    model.optimizer.lr = 0.1\n",
    "    model.fit_generator(batches, batches.N, nb_epoch=4, validation_data=val_batches, nb_val_samples=val_batches.N)\n",
    "    model.optimizer.lr = 0.01\n",
    "    model.fit_generator(batches, batches.N, nb_epoch=12, validation_data=val_batches, nb_val_samples=val_batches.N)\n",
    "    model.optimizer.lr = 0.001\n",
    "    model.fit_generator(batches, batches.N, nb_epoch=18, validation_data=val_batches, nb_val_samples=val_batches.N)\n",
    "    return model"
   ]
  },
  {
   "cell_type": "code",
   "execution_count": null,
   "metadata": {
    "collapsed": true
   },
   "outputs": [],
   "source": [
    "models = [fit_model for i in range(6)]"
   ]
  },
  {
   "cell_type": "code",
   "execution_count": null,
   "metadata": {
    "collapsed": true
   },
   "outputs": [],
   "source": [
    "path = 'data/mnsit/'\n",
    "model_path = path + 'model/'"
   ]
  },
  {
   "cell_type": "code",
   "execution_count": null,
   "metadata": {
    "collapsed": true
   },
   "outputs": [],
   "source": [
    "for i, m in enumerate(models):\n",
    "    m.save_weights(model_path+'mnsit_ensemble'+str(i)+'.pkl')"
   ]
  },
  {
   "cell_type": "code",
   "execution_count": null,
   "metadata": {
    "collapsed": true
   },
   "outputs": [],
   "source": [
    "evals = [m.evaluate(x_test, y_test, batch_size=256) for m in models]"
   ]
  },
  {
   "cell_type": "code",
   "execution_count": null,
   "metadata": {
    "collapsed": true
   },
   "outputs": [],
   "source": [
    "evals = np.array(evals)"
   ]
  },
  {
   "cell_type": "code",
   "execution_count": null,
   "metadata": {
    "collapsed": true
   },
   "outputs": [],
   "source": [
    "evals.mean(axis=0)"
   ]
  },
  {
   "cell_type": "code",
   "execution_count": null,
   "metadata": {
    "collapsed": true
   },
   "outputs": [],
   "source": [
    "all_preds = [m.predict(x_test, batch_size=256) for m in models]"
   ]
  },
  {
   "cell_type": "code",
   "execution_count": null,
   "metadata": {
    "collapsed": true
   },
   "outputs": [],
   "source": [
    "all_preds = np.stack(all_preds)"
   ]
  },
  {
   "cell_type": "code",
   "execution_count": null,
   "metadata": {
    "collapsed": true
   },
   "outputs": [],
   "source": [
    "avg_preds = all_preds.mean(axis=0)"
   ]
  },
  {
   "cell_type": "code",
   "execution_count": null,
   "metadata": {
    "collapsed": true
   },
   "outputs": [],
   "source": [
    "keras.metrics.categorical_accuracy(y_test, avg_preds).eval()"
   ]
  }
 ],
 "metadata": {
  "anaconda-cloud": {},
  "kernelspec": {
   "display_name": "Python [conda root]",
   "language": "python",
   "name": "conda-root-py"
  },
  "language_info": {
   "codemirror_mode": {
    "name": "ipython",
    "version": 2
   },
   "file_extension": ".py",
   "mimetype": "text/x-python",
   "name": "python",
   "nbconvert_exporter": "python",
   "pygments_lexer": "ipython2",
   "version": "2.7.12"
  },
  "varInspector": {
   "cols": {
    "lenName": 16,
    "lenType": 16,
    "lenVar": 40
   },
   "kernels_config": {
    "python": {
     "delete_cmd_postfix": "",
     "delete_cmd_prefix": "del ",
     "library": "var_list.py",
     "varRefreshCmd": "print(var_dic_list())"
    },
    "r": {
     "delete_cmd_postfix": ") ",
     "delete_cmd_prefix": "rm(",
     "library": "var_list.r",
     "varRefreshCmd": "cat(var_dic_list()) "
    }
   },
   "types_to_exclude": [
    "module",
    "function",
    "builtin_function_or_method",
    "instance",
    "_Feature"
   ],
   "window_display": false
  }
 },
 "nbformat": 4,
 "nbformat_minor": 1
}
