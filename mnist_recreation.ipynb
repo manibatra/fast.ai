{
 "cells": [
  {
   "cell_type": "code",
   "execution_count": 3,
   "metadata": {
    "ExecuteTime": {
     "end_time": "2017-10-10T06:20:07.429527Z",
     "start_time": "2017-10-10T06:20:02.312505Z"
    },
    "collapsed": false
   },
   "outputs": [
    {
     "name": "stderr",
     "output_type": "stream",
     "text": [
      "Using gpu device 0: Tesla K80 (CNMeM is disabled, cuDNN 5103)\n",
      "/home/ubuntu/anaconda2/lib/python2.7/site-packages/theano/sandbox/cuda/__init__.py:600: UserWarning: Your cuDNN version is more recent than the one Theano officially supports. If you see any problems, try updating Theano or downgrading cuDNN to version 5.\n",
      "  warnings.warn(warn)\n",
      "WARNING (theano.sandbox.cuda): Ignoring call to use(2), GPU number 0 is already in use.\n"
     ]
    }
   ],
   "source": [
    "from theano.sandbox import cuda\n",
    "cuda.use('gpu2')"
   ]
  },
  {
   "cell_type": "code",
   "execution_count": 4,
   "metadata": {
    "ExecuteTime": {
     "end_time": "2017-10-10T06:20:07.877986Z",
     "start_time": "2017-10-10T06:20:07.436361Z"
    },
    "collapsed": false,
    "scrolled": true
   },
   "outputs": [
    {
     "name": "stderr",
     "output_type": "stream",
     "text": [
      "Using Theano backend.\n"
     ]
    }
   ],
   "source": [
    "%matplotlib inline\n",
    "import utils; reload(utils)\n",
    "from utils import *\n",
    "from __future__ import division, print_function"
   ]
  },
  {
   "cell_type": "markdown",
   "metadata": {
    "heading_collapsed": true
   },
   "source": [
    "# Setup"
   ]
  },
  {
   "cell_type": "code",
   "execution_count": 5,
   "metadata": {
    "ExecuteTime": {
     "end_time": "2017-10-10T06:20:09.666657Z",
     "start_time": "2017-10-10T06:20:07.890173Z"
    },
    "collapsed": false,
    "hidden": true
   },
   "outputs": [],
   "source": [
    "from keras.datasets import mnist\n",
    "(x_train, y_train), (x_test, y_test) = mnist.load_data()"
   ]
  },
  {
   "cell_type": "code",
   "execution_count": 6,
   "metadata": {
    "ExecuteTime": {
     "end_time": "2017-10-10T06:20:09.687086Z",
     "start_time": "2017-10-10T06:20:09.683956Z"
    },
    "collapsed": true,
    "hidden": true
   },
   "outputs": [],
   "source": [
    "x_train = np.expand_dims(x_train, 1)\n",
    "x_test = np.expand_dims(x_test, 1)"
   ]
  },
  {
   "cell_type": "code",
   "execution_count": 7,
   "metadata": {
    "ExecuteTime": {
     "end_time": "2017-10-10T06:20:09.723486Z",
     "start_time": "2017-10-10T06:20:09.702728Z"
    },
    "collapsed": true,
    "hidden": true
   },
   "outputs": [],
   "source": [
    "y_train = onehot(y_train)\n",
    "y_test = onehot(y_test)"
   ]
  },
  {
   "cell_type": "code",
   "execution_count": 8,
   "metadata": {
    "ExecuteTime": {
     "end_time": "2017-10-10T06:20:10.198605Z",
     "start_time": "2017-10-10T06:20:09.740482Z"
    },
    "collapsed": true,
    "hidden": true
   },
   "outputs": [],
   "source": [
    "mean_x = x_train.mean().astype(np.float32)\n",
    "std_x = x_train.std().astype(np.float32)"
   ]
  },
  {
   "cell_type": "code",
   "execution_count": 9,
   "metadata": {
    "ExecuteTime": {
     "end_time": "2017-10-10T06:20:10.219896Z",
     "start_time": "2017-10-10T06:20:10.216828Z"
    },
    "collapsed": true,
    "hidden": true
   },
   "outputs": [],
   "source": [
    "# method to normalise the input \n",
    "def normalise(x): return (x-mean_x)/std_x"
   ]
  },
  {
   "cell_type": "markdown",
   "metadata": {
    "heading_collapsed": true
   },
   "source": [
    "# Linear Model"
   ]
  },
  {
   "cell_type": "code",
   "execution_count": 10,
   "metadata": {
    "ExecuteTime": {
     "end_time": "2017-10-10T06:20:10.242217Z",
     "start_time": "2017-10-10T06:20:10.236433Z"
    },
    "collapsed": false,
    "hidden": true
   },
   "outputs": [
    {
     "data": {
      "text/plain": [
       "(60000, 1, 28, 28)"
      ]
     },
     "execution_count": 10,
     "metadata": {},
     "output_type": "execute_result"
    }
   ],
   "source": [
    "x_train.shape"
   ]
  },
  {
   "cell_type": "code",
   "execution_count": 11,
   "metadata": {
    "ExecuteTime": {
     "end_time": "2017-10-10T06:20:10.265293Z",
     "start_time": "2017-10-10T06:20:10.259748Z"
    },
    "collapsed": true,
    "hidden": true
   },
   "outputs": [],
   "source": [
    "def get_lin_model():\n",
    "    model = Sequential([\n",
    "             Lambda(normalise, input_shape=x_train.shape[1:]),\n",
    "             Flatten(),\n",
    "             Dense(10, activation='softmax')\n",
    "    ])\n",
    "    model.compile(Adam(), 'categorical_crossentropy', ['accuracy'])\n",
    "    return model"
   ]
  },
  {
   "cell_type": "code",
   "execution_count": 12,
   "metadata": {
    "ExecuteTime": {
     "end_time": "2017-10-10T06:20:10.995973Z",
     "start_time": "2017-10-10T06:20:10.975978Z"
    },
    "collapsed": true,
    "hidden": true
   },
   "outputs": [],
   "source": [
    "lm = get_lin_model()"
   ]
  },
  {
   "cell_type": "code",
   "execution_count": 13,
   "metadata": {
    "ExecuteTime": {
     "end_time": "2017-10-10T06:20:12.059791Z",
     "start_time": "2017-10-10T06:20:12.055630Z"
    },
    "collapsed": true,
    "hidden": true
   },
   "outputs": [],
   "source": [
    "#Generate batches from image data\n",
    "gen = image.ImageDataGenerator()\n",
    "batches = gen.flow(x_train, y_train, batch_size=64)\n",
    "val_batches = gen.flow(x_test, y_test, batch_size=64)"
   ]
  },
  {
   "cell_type": "code",
   "execution_count": 14,
   "metadata": {
    "ExecuteTime": {
     "end_time": "2017-10-10T06:20:33.159203Z",
     "start_time": "2017-10-10T06:20:16.820522Z"
    },
    "collapsed": false,
    "hidden": true
   },
   "outputs": [
    {
     "name": "stdout",
     "output_type": "stream",
     "text": [
      "Epoch 1/1\n",
      "60000/60000 [==============================] - 12s - loss: 0.4285 - acc: 0.8737 - val_loss: 0.3020 - val_acc: 0.9136\n"
     ]
    },
    {
     "data": {
      "text/plain": [
       "<keras.callbacks.History at 0x7f364e954210>"
      ]
     },
     "execution_count": 14,
     "metadata": {},
     "output_type": "execute_result"
    }
   ],
   "source": [
    "#Run the model for 1 epoch using the default learning rate\n",
    "lm.fit_generator(batches, batches.N, nb_epoch=1, validation_data=val_batches, nb_val_samples=val_batches.N)"
   ]
  },
  {
   "cell_type": "code",
   "execution_count": 15,
   "metadata": {
    "ExecuteTime": {
     "end_time": "2017-10-10T06:20:45.908137Z",
     "start_time": "2017-10-10T06:20:45.905168Z"
    },
    "collapsed": true,
    "hidden": true
   },
   "outputs": [],
   "source": [
    "lm.optimizer.lr = 0.1"
   ]
  },
  {
   "cell_type": "code",
   "execution_count": 16,
   "metadata": {
    "ExecuteTime": {
     "end_time": "2017-10-10T06:21:08.886968Z",
     "start_time": "2017-10-10T06:20:56.186606Z"
    },
    "collapsed": false,
    "hidden": true
   },
   "outputs": [
    {
     "name": "stdout",
     "output_type": "stream",
     "text": [
      "Epoch 1/1\n",
      "60000/60000 [==============================] - 12s - loss: 0.2988 - acc: 0.9146 - val_loss: 0.2997 - val_acc: 0.9168\n"
     ]
    },
    {
     "data": {
      "text/plain": [
       "<keras.callbacks.History at 0x7f364e8b8450>"
      ]
     },
     "execution_count": 16,
     "metadata": {},
     "output_type": "execute_result"
    }
   ],
   "source": [
    "lm.fit_generator(batches, batches.N, nb_epoch=1, validation_data=val_batches, nb_val_samples=val_batches.N)"
   ]
  },
  {
   "cell_type": "code",
   "execution_count": 17,
   "metadata": {
    "ExecuteTime": {
     "end_time": "2017-10-10T06:21:22.079989Z",
     "start_time": "2017-10-10T06:21:22.077080Z"
    },
    "collapsed": true,
    "hidden": true
   },
   "outputs": [],
   "source": [
    "lm.optimizer.lr = 0.01"
   ]
  },
  {
   "cell_type": "code",
   "execution_count": 18,
   "metadata": {
    "ExecuteTime": {
     "end_time": "2017-10-10T06:22:20.384637Z",
     "start_time": "2017-10-10T06:21:29.568070Z"
    },
    "collapsed": false,
    "hidden": true
   },
   "outputs": [
    {
     "name": "stdout",
     "output_type": "stream",
     "text": [
      "Epoch 1/4\n",
      "60000/60000 [==============================] - 12s - loss: 0.2847 - acc: 0.9206 - val_loss: 0.2845 - val_acc: 0.9216\n",
      "Epoch 2/4\n",
      "60000/60000 [==============================] - 12s - loss: 0.2772 - acc: 0.9229 - val_loss: 0.2800 - val_acc: 0.9202\n",
      "Epoch 3/4\n",
      "60000/60000 [==============================] - 12s - loss: 0.2724 - acc: 0.9244 - val_loss: 0.2820 - val_acc: 0.9214\n",
      "Epoch 4/4\n",
      "60000/60000 [==============================] - 12s - loss: 0.2683 - acc: 0.9255 - val_loss: 0.2696 - val_acc: 0.9251\n"
     ]
    },
    {
     "data": {
      "text/plain": [
       "<keras.callbacks.History at 0x7f364e8b8a90>"
      ]
     },
     "execution_count": 18,
     "metadata": {},
     "output_type": "execute_result"
    }
   ],
   "source": [
    "lm.fit_generator(batches, batches.N, nb_epoch=4, validation_data=val_batches, nb_val_samples=val_batches.N)"
   ]
  },
  {
   "cell_type": "markdown",
   "metadata": {
    "heading_collapsed": true
   },
   "source": [
    "# Single Dense Layer"
   ]
  },
  {
   "cell_type": "code",
   "execution_count": 32,
   "metadata": {
    "ExecuteTime": {
     "end_time": "2017-10-10T06:43:42.106627Z",
     "start_time": "2017-10-10T06:43:42.099993Z"
    },
    "collapsed": true,
    "hidden": true
   },
   "outputs": [],
   "source": [
    "def get_fc_model():\n",
    "    model = Sequential([\n",
    "            Lambda(normalise, input_shape=x_train.shape[1:]),\n",
    "            Flatten(),\n",
    "            Dense(512, activation='softmax'),\n",
    "            Dense(10, activation='softmax')\n",
    "        ])\n",
    "    model.compile(Adam(), loss='categorical_crossentropy', metrics=['accuracy'])\n",
    "    return model"
   ]
  },
  {
   "cell_type": "code",
   "execution_count": 33,
   "metadata": {
    "ExecuteTime": {
     "end_time": "2017-10-10T06:44:14.528682Z",
     "start_time": "2017-10-10T06:44:14.504386Z"
    },
    "collapsed": true,
    "hidden": true
   },
   "outputs": [],
   "source": [
    "fc = get_fc_model()"
   ]
  },
  {
   "cell_type": "code",
   "execution_count": 34,
   "metadata": {
    "ExecuteTime": {
     "end_time": "2017-10-10T06:44:30.039001Z",
     "start_time": "2017-10-10T06:44:15.560831Z"
    },
    "collapsed": false,
    "hidden": true
   },
   "outputs": [
    {
     "name": "stdout",
     "output_type": "stream",
     "text": [
      "Epoch 1/1\n",
      "60000/60000 [==============================] - 13s - loss: 1.5455 - acc: 0.8841 - val_loss: 1.0126 - val_acc: 0.9206\n"
     ]
    },
    {
     "data": {
      "text/plain": [
       "<keras.callbacks.History at 0x7f364516b7d0>"
      ]
     },
     "execution_count": 34,
     "metadata": {},
     "output_type": "execute_result"
    }
   ],
   "source": [
    "fc.fit_generator(batches, batches.N, nb_epoch=1, validation_data=val_batches, nb_val_samples=val_batches.N)"
   ]
  },
  {
   "cell_type": "code",
   "execution_count": 35,
   "metadata": {
    "ExecuteTime": {
     "end_time": "2017-10-10T06:44:41.342948Z",
     "start_time": "2017-10-10T06:44:41.339851Z"
    },
    "collapsed": true,
    "hidden": true
   },
   "outputs": [],
   "source": [
    "fc.optimizer.lr=0.1"
   ]
  },
  {
   "cell_type": "code",
   "execution_count": 36,
   "metadata": {
    "ExecuteTime": {
     "end_time": "2017-10-10T06:44:55.459255Z",
     "start_time": "2017-10-10T06:44:42.229832Z"
    },
    "collapsed": false,
    "hidden": true
   },
   "outputs": [
    {
     "name": "stdout",
     "output_type": "stream",
     "text": [
      "Epoch 1/1\n",
      "60000/60000 [==============================] - 13s - loss: 0.7477 - acc: 0.9240 - val_loss: 0.5532 - val_acc: 0.9278\n"
     ]
    },
    {
     "data": {
      "text/plain": [
       "<keras.callbacks.History at 0x7f3644f84c90>"
      ]
     },
     "execution_count": 36,
     "metadata": {},
     "output_type": "execute_result"
    }
   ],
   "source": [
    "fc.fit_generator(batches, batches.N, nb_epoch=1, validation_data=val_batches, nb_val_samples=val_batches.N)"
   ]
  },
  {
   "cell_type": "code",
   "execution_count": 37,
   "metadata": {
    "ExecuteTime": {
     "end_time": "2017-10-10T06:44:55.489278Z",
     "start_time": "2017-10-10T06:44:55.484756Z"
    },
    "collapsed": true,
    "hidden": true
   },
   "outputs": [],
   "source": [
    "fc.optimizer.lr=0.01"
   ]
  },
  {
   "cell_type": "code",
   "execution_count": 38,
   "metadata": {
    "ExecuteTime": {
     "end_time": "2017-10-10T06:45:49.071278Z",
     "start_time": "2017-10-10T06:44:55.505836Z"
    },
    "collapsed": false,
    "hidden": true
   },
   "outputs": [
    {
     "name": "stdout",
     "output_type": "stream",
     "text": [
      "Epoch 1/4\n",
      "60000/60000 [==============================] - 13s - loss: 0.4626 - acc: 0.9297 - val_loss: 0.3962 - val_acc: 0.9319\n",
      "Epoch 2/4\n",
      "60000/60000 [==============================] - 13s - loss: 0.3513 - acc: 0.9355 - val_loss: 0.3270 - val_acc: 0.9359\n",
      "Epoch 3/4\n",
      "60000/60000 [==============================] - 13s - loss: 0.3021 - acc: 0.9382 - val_loss: 0.3106 - val_acc: 0.9319\n",
      "Epoch 4/4\n",
      "60000/60000 [==============================] - 13s - loss: 0.2740 - acc: 0.9409 - val_loss: 0.2832 - val_acc: 0.9367\n"
     ]
    },
    {
     "data": {
      "text/plain": [
       "<keras.callbacks.History at 0x7f3644f84f50>"
      ]
     },
     "execution_count": 38,
     "metadata": {},
     "output_type": "execute_result"
    }
   ],
   "source": [
    "fc.fit_generator(batches, batches.N, nb_epoch=4, validation_data=val_batches, nb_val_samples=val_batches.N)"
   ]
  },
  {
   "cell_type": "markdown",
   "metadata": {
    "heading_collapsed": true
   },
   "source": [
    "# Basic VGG-style CNN"
   ]
  },
  {
   "cell_type": "code",
   "execution_count": 44,
   "metadata": {
    "ExecuteTime": {
     "end_time": "2017-10-10T06:54:52.797517Z",
     "start_time": "2017-10-10T06:54:52.787776Z"
    },
    "collapsed": true,
    "hidden": true
   },
   "outputs": [],
   "source": [
    "def get_model():\n",
    "    model = Sequential([\n",
    "            Lambda(normalise, input_shape=x_train.shape[1:]),\n",
    "            Convolution2D(32, 3, 3, activation='relu'),\n",
    "            Convolution2D(32, 3, 3, activation='relu'),\n",
    "            MaxPooling2D(),\n",
    "            Convolution2D(64, 3, 3, activation='relu'),\n",
    "            Convolution2D(64, 3, 3, activation='relu'),\n",
    "            MaxPooling2D(),\n",
    "            Flatten(),\n",
    "            Dense(512, activation='relu'),\n",
    "            Dense(10, activation='softmax')\n",
    "        ])\n",
    "    model.compile(Adam(), loss='categorical_crossentropy', metrics=['accuracy'])\n",
    "    return model"
   ]
  },
  {
   "cell_type": "code",
   "execution_count": 45,
   "metadata": {
    "ExecuteTime": {
     "end_time": "2017-10-10T06:55:00.671958Z",
     "start_time": "2017-10-10T06:55:00.577812Z"
    },
    "collapsed": true,
    "hidden": true
   },
   "outputs": [],
   "source": [
    "model = get_model()"
   ]
  },
  {
   "cell_type": "code",
   "execution_count": 46,
   "metadata": {
    "ExecuteTime": {
     "end_time": "2017-10-10T06:56:17.321556Z",
     "start_time": "2017-10-10T06:55:18.071458Z"
    },
    "collapsed": false,
    "hidden": true
   },
   "outputs": [
    {
     "name": "stdout",
     "output_type": "stream",
     "text": [
      "Epoch 1/1\n",
      "60000/60000 [==============================] - 21s - loss: 0.1085 - acc: 0.9667 - val_loss: 0.0524 - val_acc: 0.9828\n"
     ]
    },
    {
     "data": {
      "text/plain": [
       "<keras.callbacks.History at 0x7f363a7d9410>"
      ]
     },
     "execution_count": 46,
     "metadata": {},
     "output_type": "execute_result"
    }
   ],
   "source": [
    "model.fit_generator(batches, batches.N, nb_epoch=1, validation_data=val_batches, nb_val_samples=val_batches.N)"
   ]
  },
  {
   "cell_type": "code",
   "execution_count": 47,
   "metadata": {
    "ExecuteTime": {
     "end_time": "2017-10-10T06:56:17.352703Z",
     "start_time": "2017-10-10T06:56:17.348638Z"
    },
    "collapsed": true,
    "hidden": true
   },
   "outputs": [],
   "source": [
    "model.optimizer.lr=0.1"
   ]
  },
  {
   "cell_type": "code",
   "execution_count": 48,
   "metadata": {
    "ExecuteTime": {
     "end_time": "2017-10-10T06:56:38.499328Z",
     "start_time": "2017-10-10T06:56:17.372724Z"
    },
    "collapsed": false,
    "hidden": true
   },
   "outputs": [
    {
     "name": "stdout",
     "output_type": "stream",
     "text": [
      "Epoch 1/1\n",
      "60000/60000 [==============================] - 21s - loss: 0.0374 - acc: 0.9883 - val_loss: 0.0223 - val_acc: 0.9932\n"
     ]
    },
    {
     "data": {
      "text/plain": [
       "<keras.callbacks.History at 0x7f363915cc50>"
      ]
     },
     "execution_count": 48,
     "metadata": {},
     "output_type": "execute_result"
    }
   ],
   "source": [
    "model.fit_generator(batches, batches.N, nb_epoch=1, validation_data=val_batches, nb_val_samples=val_batches.N)"
   ]
  },
  {
   "cell_type": "code",
   "execution_count": 49,
   "metadata": {
    "ExecuteTime": {
     "end_time": "2017-10-10T06:56:38.532721Z",
     "start_time": "2017-10-10T06:56:38.528726Z"
    },
    "collapsed": true,
    "hidden": true
   },
   "outputs": [],
   "source": [
    "model.optimizer.lr=0.01"
   ]
  },
  {
   "cell_type": "code",
   "execution_count": 50,
   "metadata": {
    "ExecuteTime": {
     "end_time": "2017-10-10T06:59:25.566671Z",
     "start_time": "2017-10-10T06:56:38.552965Z"
    },
    "collapsed": false,
    "hidden": true
   },
   "outputs": [
    {
     "name": "stdout",
     "output_type": "stream",
     "text": [
      "Epoch 1/8\n",
      "60000/60000 [==============================] - 20s - loss: 0.0238 - acc: 0.9922 - val_loss: 0.0262 - val_acc: 0.9918\n",
      "Epoch 2/8\n",
      "60000/60000 [==============================] - 20s - loss: 0.0188 - acc: 0.9941 - val_loss: 0.0364 - val_acc: 0.9907\n",
      "Epoch 3/8\n",
      "60000/60000 [==============================] - 20s - loss: 0.0149 - acc: 0.9953 - val_loss: 0.0265 - val_acc: 0.9931\n",
      "Epoch 4/8\n",
      "60000/60000 [==============================] - 21s - loss: 0.0125 - acc: 0.9960 - val_loss: 0.0365 - val_acc: 0.9907\n",
      "Epoch 5/8\n",
      "60000/60000 [==============================] - 20s - loss: 0.0116 - acc: 0.9964 - val_loss: 0.0275 - val_acc: 0.9932\n",
      "Epoch 6/8\n",
      "60000/60000 [==============================] - 20s - loss: 0.0077 - acc: 0.9976 - val_loss: 0.0179 - val_acc: 0.9947\n",
      "Epoch 7/8\n",
      "60000/60000 [==============================] - 20s - loss: 0.0087 - acc: 0.9972 - val_loss: 0.0292 - val_acc: 0.9927\n",
      "Epoch 8/8\n",
      "60000/60000 [==============================] - 20s - loss: 0.0077 - acc: 0.9977 - val_loss: 0.0270 - val_acc: 0.9930\n"
     ]
    },
    {
     "data": {
      "text/plain": [
       "<keras.callbacks.History at 0x7f363915c890>"
      ]
     },
     "execution_count": 50,
     "metadata": {},
     "output_type": "execute_result"
    }
   ],
   "source": [
    "model.fit_generator(batches, batches.N, nb_epoch=8, validation_data=val_batches, nb_val_samples=val_batches.N)"
   ]
  },
  {
   "cell_type": "markdown",
   "metadata": {},
   "source": [
    "# Reducing Overfitting"
   ]
  },
  {
   "cell_type": "code",
   "execution_count": null,
   "metadata": {
    "collapsed": true
   },
   "outputs": [],
   "source": []
  }
 ],
 "metadata": {
  "anaconda-cloud": {},
  "kernelspec": {
   "display_name": "Python [conda root]",
   "language": "python",
   "name": "conda-root-py"
  },
  "language_info": {
   "codemirror_mode": {
    "name": "ipython",
    "version": 2
   },
   "file_extension": ".py",
   "mimetype": "text/x-python",
   "name": "python",
   "nbconvert_exporter": "python",
   "pygments_lexer": "ipython2",
   "version": "2.7.12"
  },
  "varInspector": {
   "cols": {
    "lenName": 16,
    "lenType": 16,
    "lenVar": 40
   },
   "kernels_config": {
    "python": {
     "delete_cmd_postfix": "",
     "delete_cmd_prefix": "del ",
     "library": "var_list.py",
     "varRefreshCmd": "print(var_dic_list())"
    },
    "r": {
     "delete_cmd_postfix": ") ",
     "delete_cmd_prefix": "rm(",
     "library": "var_list.r",
     "varRefreshCmd": "cat(var_dic_list()) "
    }
   },
   "types_to_exclude": [
    "module",
    "function",
    "builtin_function_or_method",
    "instance",
    "_Feature"
   ],
   "window_display": false
  }
 },
 "nbformat": 4,
 "nbformat_minor": 1
}
